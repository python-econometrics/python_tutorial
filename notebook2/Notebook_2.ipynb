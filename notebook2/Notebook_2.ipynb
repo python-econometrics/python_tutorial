{
 "cells": [
  {
   "cell_type": "markdown",
   "metadata": {},
   "source": [
    "## ECON XXX (Course Title)\n",
    "## 2. Data Structures\n",
    "In this chapter we first cover additional properties of lists and dictionaries. Secondly, user-defined types will be described and classes will be discussed.\n"
   ]
  },
  {
   "cell_type": "markdown",
   "metadata": {},
   "source": [
    "### 2.1. More on Built-in Data Types (Lists and Dictionaries)\n",
    "#### List Operations\n",
    "As briefly introduced in the first chapter, in Python, a <i>method</i> refers to an operation that is associated with an object (such as lists and dictionaries, for example). It is used to perform manipulations or actions on the objects, and can modify their state or return their information. (Note that methods are not just a feature of Python syntax; they are one of the fundamental concepts in so-called <i>object-oriented programming</i>.)<br><br>\n",
    "To use a method, you use the dot operator (.). Specifically, the syntax is as follows: `object.method(arguments)`.\n",
    "<br><br>The list object has some methods. One example is the <b>.append()</b> method which was already introduced in the previous chapter.<br><br>\n",
    "<b>.append()</b> - Add an element to the end of the list."
   ]
  },
  {
   "cell_type": "code",
   "execution_count": 13,
   "metadata": {},
   "outputs": [
    {
     "name": "stdout",
     "output_type": "stream",
     "text": [
      "[1, 2, 3, 4]\n"
     ]
    }
   ],
   "source": [
    "a = [1, 2, 3]\n",
    "a.append(4)\n",
    "print(a)"
   ]
  },
  {
   "cell_type": "markdown",
   "metadata": {},
   "source": [
    "There are some other methods for lists that are frequently used. Some of these are listed below."
   ]
  },
  {
   "cell_type": "markdown",
   "metadata": {},
   "source": [
    "<b>.extend()</b> - Adds multiple elements to the end of the list. You have to input <i>iterable</i> as argument. Typically, you can intput another list in <b>.extend()</b>, you can concatenate the two lists."
   ]
  },
  {
   "cell_type": "code",
   "execution_count": 15,
   "metadata": {},
   "outputs": [
    {
     "name": "stdout",
     "output_type": "stream",
     "text": [
      "[1, 2, 3, 4, 5, 6]\n"
     ]
    }
   ],
   "source": [
    "a = [1, 2, 3]\n",
    "b = [4, 5, 6]\n",
    "a.extend(b) # input b\n",
    "print(a)"
   ]
  },
  {
   "cell_type": "markdown",
   "metadata": {},
   "source": [
    "What if you use <b>extend</b> instead of <b>append</b> in the first example? Since <b>extend</b> needs <i>iterables</i> as an input, it will cause an error as follows:"
   ]
  },
  {
   "cell_type": "code",
   "execution_count": 17,
   "metadata": {},
   "outputs": [
    {
     "ename": "TypeError",
     "evalue": "'int' object is not iterable",
     "output_type": "error",
     "traceback": [
      "\u001b[0;31m---------------------------------------------------------------------------\u001b[0m",
      "\u001b[0;31mTypeError\u001b[0m                                 Traceback (most recent call last)",
      "Cell \u001b[0;32mIn[17], line 2\u001b[0m\n\u001b[1;32m      1\u001b[0m a \u001b[38;5;241m=\u001b[39m [\u001b[38;5;241m1\u001b[39m, \u001b[38;5;241m2\u001b[39m, \u001b[38;5;241m3\u001b[39m]\n\u001b[0;32m----> 2\u001b[0m \u001b[43ma\u001b[49m\u001b[38;5;241;43m.\u001b[39;49m\u001b[43mextend\u001b[49m\u001b[43m(\u001b[49m\u001b[38;5;241;43m4\u001b[39;49m\u001b[43m)\u001b[49m \u001b[38;5;66;03m# This will cause an error, because '4' is just a value, not an iterable.\u001b[39;00m\n",
      "\u001b[0;31mTypeError\u001b[0m: 'int' object is not iterable"
     ]
    }
   ],
   "source": [
    "a = [1, 2, 3]\n",
    "a.extend(4) # This will cause an error, because '4' is just a value, not an iterable."
   ]
  },
  {
   "cell_type": "markdown",
   "metadata": {},
   "source": [
    "What if you use <b>append</b> instead of <b>extend</b> in the second example? Since <b>append</b> recognizes the input as a single element, it will create a nested list as follows:"
   ]
  },
  {
   "cell_type": "code",
   "execution_count": 18,
   "metadata": {},
   "outputs": [
    {
     "name": "stdout",
     "output_type": "stream",
     "text": [
      "[1, 2, 3, [4, 5, 6]]\n"
     ]
    }
   ],
   "source": [
    "a = [1, 2, 3]\n",
    "b = [4, 5, 6]\n",
    "a.append(b) # input b\n",
    "print(a)"
   ]
  },
  {
   "cell_type": "markdown",
   "metadata": {},
   "source": [
    "As we can see above, it is important to clearly understand the difference between the two methods.<br><br><br>\n",
    "<b>.pop()</b> - Deletes an element of a list. If an index is specified, it deletes that element. If not, it deletes the last element."
   ]
  },
  {
   "cell_type": "code",
   "execution_count": 19,
   "metadata": {},
   "outputs": [
    {
     "name": "stdout",
     "output_type": "stream",
     "text": [
      "[1, 2, 3]\n",
      "[1, 2, 4]\n"
     ]
    }
   ],
   "source": [
    "a = [1, 2, 3, 4]\n",
    "a.pop() # not specify an index\n",
    "print(a)\n",
    "\n",
    "a = [1, 2, 3, 4]\n",
    "a.pop(2) # specify an index (remember it starts from 0)\n",
    "print(a)"
   ]
  },
  {
   "cell_type": "markdown",
   "metadata": {},
   "source": [
    "<b>.sort()</b> - Sorts the elements of the list in numerical or alphabetical order. The default order is ascending, but it can be changed to descending by putting `reverse=True` in parentheses. (Like this,  arguments that require the name of the argument to be specified when inputting the parameter are called <i>keyword arguments</i>.)"
   ]
  },
  {
   "cell_type": "code",
   "execution_count": 21,
   "metadata": {},
   "outputs": [
    {
     "name": "stdout",
     "output_type": "stream",
     "text": [
      "[1, 2, 3, 4, 5]\n",
      "['apples', 'bananas', 'cherries', 'dates']\n",
      "[5, 4, 3, 2, 1]\n"
     ]
    }
   ],
   "source": [
    "a = [2, 4, 5, 1, 3]\n",
    "a.sort()\n",
    "print(a)\n",
    "\n",
    "b = ['bananas', 'apples', 'cherries', 'dates']\n",
    "b.sort()\n",
    "print(b)\n",
    "\n",
    "c = [2, 4, 5, 1, 3]\n",
    "c.sort(reverse=True)\n",
    "print(c)"
   ]
  },
  {
   "cell_type": "markdown",
   "metadata": {},
   "source": [
    "#### List Comprehensions\n",
    "So far we have written down all the elements to create a list. Instead, you can use <i>list comprehensions</i> to create lists in a concise way. This is basically a way to create a new list by performing some transformation on each element of an iterable, such as another list.<br><br>\n",
    "A very typical example is to use <b>range()</b> funciton in a list comprehension. First of all, remember that <b>range()</b> creates an iterable that contains consecutive integers. Let's look at an example that creates a list of square numbers using <b>range()</b> in a <i>list comprehension</i>."
   ]
  },
  {
   "cell_type": "code",
   "execution_count": 27,
   "metadata": {},
   "outputs": [
    {
     "name": "stdout",
     "output_type": "stream",
     "text": [
      "[0, 1, 2, 3, 4, 5, 6, 7, 8, 9]\n",
      "[0, 1, 4, 9, 16, 25, 36, 49, 64, 81]\n"
     ]
    }
   ],
   "source": [
    "integers = range(10) \n",
    "squares = [x ** 2 for x in integers] # list comprehension\n",
    "\n",
    "print(list(integers)) # note that integers is just a range object, so you have to convert it to list to show the elements\n",
    "print(squares)"
   ]
  },
  {
   "cell_type": "markdown",
   "metadata": {},
   "source": [
    "As we can see above, a <i>list comprehension</i> consists of square brackets containing an expression followed by a <b>for...in...</b> statement. Like for-loops, the elements of the iterable written after <b>in</b> are in turn assigned to the variable after <b>for</b>.　For each element, the process written before the <b>for</b> is executed, and the result will be an element of the new list. In the above example, each integer in `integers` is assigned to `x` one after another, and `x ** 2` is calculated for each `x`.<br><br>\n",
    "\n",
    "Moreover, using an <b>if...</b> statement, you can filter the elements in the original iterable. You can add an <b>if...</b> statement after the <b>for...in...</b> statement to specify the conditon for filtering. In the example below, we use only odd numbers in the original integers to create new lists."
   ]
  },
  {
   "cell_type": "code",
   "execution_count": 31,
   "metadata": {},
   "outputs": [
    {
     "name": "stdout",
     "output_type": "stream",
     "text": [
      "[1, 3, 5, 7, 9]\n",
      "[1, 9, 25, 49, 81]\n"
     ]
    }
   ],
   "source": [
    "integers = range(10) \n",
    "only_odds = [x for x in integers if x%2 == 1] # note that % operator returns the remainder of the division\n",
    "print(only_odds)\n",
    "\n",
    "only_odds_square = [x**2 for x in integers if x%2 == 1]\n",
    "print(only_odds_square)"
   ]
  },
  {
   "cell_type": "markdown",
   "metadata": {},
   "source": [
    "Moreover, similar to the above <b>if...</b> statement, you can apply different ways of calculation on each element of the original iterable depending on a condition using an <b>if...else...</b> statement. In this case, however, the order in which the conditions and processess are written is a little more complicated.　The general form of a list comprehension with an <b>if...else...</b> statement is as follows: `[(process 1) if (condition) else (process 2) for (element) in (iterable)]`. For each element of the iterable, if the condition is satisfied, the process 1 is executed. If not, the process 2 is executed. In the following example, if an element is an odd number, the new element will be the square of it. Otherwise it will be zero. "
   ]
  },
  {
   "cell_type": "code",
   "execution_count": 33,
   "metadata": {},
   "outputs": [
    {
     "name": "stdout",
     "output_type": "stream",
     "text": [
      "[0, 1, 0, 9, 0, 25, 0, 49, 0, 81]\n"
     ]
    }
   ],
   "source": [
    "integers = range(10) \n",
    "odds_sq_even_zero = [x**2 if x%2 == 1 else 0 for x in integers]\n",
    "print(odds_sq_even_zero)"
   ]
  },
  {
   "cell_type": "markdown",
   "metadata": {},
   "source": [
    "#### Dictionary Operations\n",
    "To add an element to a dictionary, you can simply specify an addtional key and assign a value as follows."
   ]
  },
  {
   "cell_type": "code",
   "execution_count": 34,
   "metadata": {},
   "outputs": [
    {
     "name": "stdout",
     "output_type": "stream",
     "text": [
      "{'bananas': 4, 'apples': 6, 'cherries': 10, 'dates': 8}\n"
     ]
    }
   ],
   "source": [
    "a = {'bananas': 4, 'apples':6, 'cherries':10}\n",
    "a['dates'] = 8 # add an element\n",
    "print(a)"
   ]
  },
  {
   "cell_type": "markdown",
   "metadata": {},
   "source": [
    "Like a list, to delete an element, you can use <b>.pop()</b> method. You have to specfy the key of the element you want to delete."
   ]
  },
  {
   "cell_type": "code",
   "execution_count": 36,
   "metadata": {},
   "outputs": [
    {
     "name": "stdout",
     "output_type": "stream",
     "text": [
      "{'bananas': 4, 'cherries': 10, 'dates': 8}\n"
     ]
    }
   ],
   "source": [
    "a = {'bananas': 4, 'apples':6, 'cherries':10, 'dates': 8}\n",
    "a.pop('apples')\n",
    "print(a)"
   ]
  },
  {
   "cell_type": "markdown",
   "metadata": {},
   "source": [
    "The following methods are for extracting keys and values in a dictionary<br><br>\n",
    "<b>.keys()</b> - Returns an iterable containing all keys in the dictionary.<br><br>\n",
    "<b>.values()</b> - Returns an iterable containing all values in the dictionary.<br><br>\n",
    "<b>.items()</b> - Returns an iterable containing tuples of all pairs of keys and values in the dictionary.<br><br>\n",
    "Objects returned by the above methods are iterables. So you can use them in for-loops as follows."
   ]
  },
  {
   "cell_type": "code",
   "execution_count": 37,
   "metadata": {},
   "outputs": [
    {
     "name": "stdout",
     "output_type": "stream",
     "text": [
      "bananas\n",
      "apples\n",
      "cherries\n",
      "dates\n",
      "4\n",
      "6\n",
      "10\n",
      "8\n",
      "('bananas', 4)\n",
      "('apples', 6)\n",
      "('cherries', 10)\n",
      "('dates', 8)\n"
     ]
    }
   ],
   "source": [
    "a = {'bananas': 4, 'apples':6, 'cherries':10, 'dates': 8}\n",
    "\n",
    "for key in a.keys():\n",
    "    print(key)\n",
    "\n",
    "for value in a.values():\n",
    "    print(value)\n",
    "\n",
    "for item in a.items():\n",
    "    print(item)"
   ]
  },
  {
   "cell_type": "markdown",
   "metadata": {},
   "source": [
    "Using <b>.items()</b>, you can also assign both keys and values to two loop-variables at the same time in a for-loop. This way of writing is sometimes convenient when you want to iterate something for both keys and values. The example is as follows."
   ]
  },
  {
   "cell_type": "code",
   "execution_count": 42,
   "metadata": {},
   "outputs": [
    {
     "name": "stdout",
     "output_type": "stream",
     "text": [
      "Key is bananas and value is 4\n",
      "Key is apples and value is 6\n",
      "Key is cherries and value is 10\n",
      "Key is dates and value is 8\n"
     ]
    }
   ],
   "source": [
    "a = {'bananas': 4, 'apples':6, 'cherries':10, 'dates': 8}\n",
    "\n",
    "for key, value in a.items(): # you can declare two loop-variables by separating them with a comma\n",
    "    print(f'Key is {key} and value is {value}')"
   ]
  },
  {
   "cell_type": "markdown",
   "metadata": {},
   "source": [
    "Sometimes it is convenient to convert the iterables into lists. You can do this using the <b>list()</b> function."
   ]
  },
  {
   "cell_type": "code",
   "execution_count": 50,
   "metadata": {},
   "outputs": [
    {
     "name": "stdout",
     "output_type": "stream",
     "text": [
      "['bananas', 'apples', 'cherries', 'dates']\n",
      "[4, 6, 10, 8]\n",
      "[('bananas', 4), ('apples', 6), ('cherries', 10), ('dates', 8)]\n"
     ]
    }
   ],
   "source": [
    "a = {'bananas': 4, 'apples':6, 'cherries':10, 'dates': 8}\n",
    "\n",
    "keys = list(a.keys())\n",
    "print(keys)\n",
    "\n",
    "values = list(a.values())\n",
    "print(values)\n",
    "\n",
    "items = list(a.items())\n",
    "print(items)"
   ]
  },
  {
   "cell_type": "markdown",
   "metadata": {},
   "source": [
    "#### Dictionary Comprehensions\n",
    "Simlar to list comprehensions, you can create a dictionary from iterables using <i>dictionary comprehensions</i>. The syntax is basically the same as that of list comprehensions except that [] becomes {}. Also, you need to specify both keys and values for each element. Specifically, `{(key):(value) for (element) in (iterable)}`. In the following example, the original iterable is a nested list that contains pairs of names of fruits and thier quantity. We will convert them into a dictionary."
   ]
  },
  {
   "cell_type": "code",
   "execution_count": 49,
   "metadata": {},
   "outputs": [
    {
     "name": "stdout",
     "output_type": "stream",
     "text": [
      "{'bananas': 4, 'apples': 6, 'cherries': 10, 'dates': 8}\n",
      "{'bananas': 16, 'apples': 36, 'cherries': 100, 'dates': 64}\n"
     ]
    }
   ],
   "source": [
    "a = [['bananas', 4], ['apples', 6], ['cherries', 10], ['dates', 8]] # nested list\n",
    "\n",
    "a_dict = {x[0]:x[1] for x in a}\n",
    "print(a_dict)\n",
    "\n",
    "# values are squared\n",
    "b_dict = {x[0]:x[1]**2 for x in a}\n",
    "print(b_dict)"
   ]
  },
  {
   "cell_type": "markdown",
   "metadata": {},
   "source": [
    "If you have two iterables that have keys and values separately, you can use <b>zip()</b> function to combine the two and create an iterables that contains pairs of each elements of them."
   ]
  },
  {
   "cell_type": "code",
   "execution_count": 48,
   "metadata": {},
   "outputs": [
    {
     "name": "stdout",
     "output_type": "stream",
     "text": [
      "{'bananas': 4, 'apples': 6, 'cherries': 10, 'dates': 8}\n",
      "{'bananas': 16, 'apples': 36, 'cherries': 100, 'dates': 64}\n"
     ]
    }
   ],
   "source": [
    "keys = ['bananas', 'apples', 'cherries', 'dates']\n",
    "values = [4, 6, 10, 8]\n",
    "\n",
    "a_dict = {key: value for key, value in zip(keys, values)}\n",
    "print(a_dict)\n",
    "\n",
    "b_dict = {key: value**2 for key, value in zip(keys, values)}\n",
    "print(b_dict)\n"
   ]
  },
  {
   "cell_type": "markdown",
   "metadata": {},
   "source": [
    "As we can see in the above example, we need to declear two loop-variables to assign values from <b>zip()</b> function.<br><br>\n",
    "\n",
    "You can also use <b>if...</b> and <b>if...else...</b> statements in a dictionary comprehension. The syntax is the same as that of list comprehensions."
   ]
  },
  {
   "cell_type": "code",
   "execution_count": 47,
   "metadata": {},
   "outputs": [
    {
     "name": "stdout",
     "output_type": "stream",
     "text": [
      "{'apples': 6, 'cherries': 10, 'dates': 8}\n",
      "{'bananas': 'smaller than 5', 'apples': 'larger than 5', 'cherries': 'larger than 5', 'dates': 'larger than 5'}\n"
     ]
    }
   ],
   "source": [
    "keys = ['bananas', 'apples', 'cherries', 'dates']\n",
    "values = [4, 6, 10, 8]\n",
    "\n",
    "a_dict = {key: value for key, value in zip(keys, values) if value > 5} # include elements if the value is larger than 5\n",
    "print(a_dict)\n",
    "\n",
    "\n",
    "b_dict = {key: 'larger than 5' if value > 5 else 'smaller than 5' for key, value in zip(keys, values) }\n",
    "print(b_dict)"
   ]
  },
  {
   "cell_type": "markdown",
   "metadata": {},
   "source": [
    "#### \"In\" Operator\n",
    "If you want to check wether a value exists within an iterable, you can use the <b>in</b> operator. The syntax is `(value) in (iterable)`, and this command returns <b>True</b> if (value) is included in (iterable), and <b>False</b> otherwise."
   ]
  },
  {
   "cell_type": "code",
   "execution_count": 52,
   "metadata": {},
   "outputs": [
    {
     "name": "stdout",
     "output_type": "stream",
     "text": [
      "True\n",
      "False\n"
     ]
    }
   ],
   "source": [
    "fruits = ['bananas', 'apples', 'cherries', 'dates']\n",
    "print('apples' in fruits)\n",
    "print('mangos' in fruits)"
   ]
  },
  {
   "cell_type": "markdown",
   "metadata": {},
   "source": [
    " Note that this True/False type value is called <i>Boolean</i>. Since the <b>in</b> operator returns a <i>Boolean</i> value, it can be directly inserted in an <b>if</b> statement."
   ]
  },
  {
   "cell_type": "code",
   "execution_count": 53,
   "metadata": {},
   "outputs": [
    {
     "name": "stdout",
     "output_type": "stream",
     "text": [
      "apple is included in the fruit list.\n",
      "mangos is NOT included in the fruit list.\n"
     ]
    }
   ],
   "source": [
    "fruits = ['bananas', 'apples', 'cherries', 'dates']\n",
    "\n",
    "if 'apples' in fruits:\n",
    "    print('apple is included in the fruit list.')\n",
    "else:\n",
    "    print('apple is NOT included in the fruit list.')\n",
    "\n",
    "\n",
    "if 'mangos' in fruits:\n",
    "    print('mangos is included in the fruit list.')\n",
    "else:\n",
    "    print('mangos is NOT included in the fruit list.')"
   ]
  },
  {
   "cell_type": "markdown",
   "metadata": {},
   "source": [
    "If you are using the <b>in</b> operator for a dictionary, it will check wether your value is included in the keys of the dictionary, not the values."
   ]
  },
  {
   "cell_type": "code",
   "execution_count": 54,
   "metadata": {},
   "outputs": [
    {
     "name": "stdout",
     "output_type": "stream",
     "text": [
      "True\n",
      "False\n"
     ]
    }
   ],
   "source": [
    "a = {'bananas': 4, 'apples':6, 'cherries':10, 'dates': 8}\n",
    "\n",
    "print('apples' in a)\n",
    "print(4 in a)"
   ]
  },
  {
   "cell_type": "markdown",
   "metadata": {},
   "source": [
    "If you want to check the values of the dictionary instead of the keys, you can use the <b>values()</b> method."
   ]
  },
  {
   "cell_type": "code",
   "execution_count": 55,
   "metadata": {},
   "outputs": [
    {
     "name": "stdout",
     "output_type": "stream",
     "text": [
      "False\n",
      "True\n"
     ]
    }
   ],
   "source": [
    "a = {'bananas': 4, 'apples':6, 'cherries':10, 'dates': 8}\n",
    "\n",
    "print('apples' in a.values())\n",
    "print(4 in a.values())"
   ]
  },
  {
   "cell_type": "markdown",
   "metadata": {},
   "source": [
    "Note that we only covered the example on lists and dictionaries, but you can use the <b>in</b> operator for other iterables such as tuples, sets, and strings."
   ]
  },
  {
   "cell_type": "markdown",
   "metadata": {},
   "source": [
    "#### Lists or Dictionaries - Which to Use?\n",
    "We've introduced two data structures that can contain multiple values, but how can we choose between them?<br><br>\n",
    "<b>Advantages of dictionaries</b>: The important difference is how you can retrieve (or manipulate) elements. For a dictionary, if you want to retrieve an element and know the key of it, you can immediately access it. On the other hand, for a list, you need to pin down the exact position (index) of the element, which is hard, especially for large data. For example, suppose you have pairs of user id (not necessarily consecutive numbers) and user information data. If you will retrieve user information by user id, it is more efficient to manage data in a dictionary rather than in a list. In the following example, suppose you want to retrieve user information (user's name) and you know the user id. If you use a dictionary, you can directly access the data by specifying the id. However, if you use a list, firstly you have to pin down the index."
   ]
  },
  {
   "cell_type": "code",
   "execution_count": 2,
   "metadata": {},
   "outputs": [
    {
     "name": "stdout",
     "output_type": "stream",
     "text": [
      "User-id 0501's name is Liam\n",
      "User-id 0501's name is Liam\n"
     ]
    }
   ],
   "source": [
    "# user-id  user name\n",
    "#  0501     Liam\n",
    "#  2122     Noah\n",
    "#  3109     Oliver\n",
    "\n",
    "# Use Dictionary\n",
    "data_dict = {'0501': 'Liam', '2122': 'Noah', '3109': 'Oliver'}\n",
    "\n",
    "print(f\"User-id 0501's name is {data_dict['0501']}\")\n",
    "\n",
    "\n",
    "# List\n",
    "data_list_id = ['0501', '2122', '3109']\n",
    "data_list_name = ['Liam', 'Noah', 'Oliver']\n",
    "\n",
    "index = data_list_id.index('0501') # First you need to search the id and find the index.\n",
    "                                   # If the data is large, the computational burden is large.\n",
    "\n",
    "print(f\"User-id 0501's name is {data_list_name[index]}\")"
   ]
  },
  {
   "cell_type": "markdown",
   "metadata": {},
   "source": [
    "Moreover, even for relatively small data, when data is structured as key-value relationships (for example, countries and their capitals), dictionaries allow for intuitive data operation."
   ]
  },
  {
   "cell_type": "markdown",
   "metadata": {},
   "source": [
    "<b>Advantages of lists</b>: The dictionary type makes sense only if there is a unique identifier, such as user id. Lists can store multiple data even when there is no such identifier. Moreover, when the order of data matters (for example time series data), lists are the appropriate choice. In the following example, there is a list of daily sales of a retail store (10 days). The code calculates the daily growth rate of the sales. To do this, the ordering is crucial since neighboring elements need to be compared."
   ]
  },
  {
   "cell_type": "code",
   "execution_count": 7,
   "metadata": {},
   "outputs": [
    {
     "name": "stdout",
     "output_type": "stream",
     "text": [
      "Today's sales: [130, 80, 100, 200, 150, 90, 100, 140, 100]\n",
      "Yesterday's sales: [100, 130, 80, 100, 200, 150, 90, 100, 140]\n",
      "\n",
      "Daily growth rate (%): [30.0, -38.46153846153846, 25.0, 100.0, -25.0, -40.0, 11.111111111111114, 40.0, -28.57142857142857]\n"
     ]
    }
   ],
   "source": [
    "daily_sales = [100, 130, 80, 100, 200, 150, 90, 100, 140, 100]\n",
    "\n",
    "sales_today = daily_sales[1:10]\n",
    "sales_yesterday = daily_sales[0:9]\n",
    "\n",
    "print(f\"Today's sales: {sales_today}\")\n",
    "print(f\"Yesterday's sales: {sales_yesterday}\")\n",
    "print()\n",
    "\n",
    "daily_growth = []\n",
    "for today, yesterday in zip(sales_today, sales_yesterday): # remember zip function creates an iterable an iterable that contains pairs of each elements of the two.\n",
    "    daily_growth.append(today/yesterday*100-100)\n",
    "\n",
    "print(f\"Daily growth rate (%): {daily_growth}\")"
   ]
  },
  {
   "cell_type": "markdown",
   "metadata": {},
   "source": [
    "### 2.2. User-Defined Data Types\n",
    "So far, we have introduced built-in data types in Python such as lists and dictionaries. If you need a specific data structure instead of such built-in data types, you can use <i>user-defined data types</i>. They allow programmers to create objects, for example, that model real-world entities more closely than is possible with built-in types alone. These are defined using <i>classes</i>, which can encapsulate data (<i>attributes</i>) and functions (<i>methods</i>) related to the entity. In addition to defining new data types on your own, it is also common to use a package's own user-defined types when using the package."
   ]
  },
  {
   "cell_type": "markdown",
   "metadata": {},
   "source": [
    "#### Classes\n",
    "As mentioned above, <i>classes</i> in Python are a fundamental concept used to encapsulate data and functions together into a single entity. You can think of defining a class as creating a template for the object you want to create. In defining a class, it is necessary to specify what kind of data the object will hold (and what operations can be performed on it). <br><br>\n",
    "\n",
    "As an example, let's create a \"Chair\" class. To define a class, use <b>class</b> command followed by the class name and a colon. (The first letter of the class must be capitalized.) Inside the class block, define the data the class cantains (<i>attributes</i>). In this example, let's assume we want to include the following data (attributes) in the Chair object: type, brand, dimension, color, and price.\n"
   ]
  },
  {
   "cell_type": "code",
   "execution_count": 7,
   "metadata": {},
   "outputs": [],
   "source": [
    "class Chair:\n",
    "    def __init__(self, type, brand, dimension, color, price):\n",
    "        self.type = type\n",
    "        self.brand = brand\n",
    "        self.dimension = dimension\n",
    "        self.color = color\n",
    "        self.price = price"
   ]
  },
  {
   "cell_type": "markdown",
   "metadata": {},
   "source": [
    "Before explaining the syntax for defining a class, Let's actually create objects. To create a Chair object, simply write Chair (the name of the class) providing the information on each attribute."
   ]
  },
  {
   "cell_type": "code",
   "execution_count": 9,
   "metadata": {},
   "outputs": [],
   "source": [
    "my_chair = Chair('Office chair', 'Amazon Basics', {'Depth': 26, 'Width': 24, 'Height': 42}, 'black', 70)\n",
    "your_chair = Chair('Gaming chair', 'AKRacing', {'Depth': 20, 'Width': 24, 'Height': 44}, 'red', 300)"
   ]
  },
  {
   "cell_type": "markdown",
   "metadata": {},
   "source": [
    "In the above cell, two of Chiar objects were created. While a class is a template for an object, the actual object created in this way is called an <i>instance</i>. <br><br>\n",
    "Now, let's extract some attributes from these instances. To do that, write the dot \".\" operator and the name of the attribute you want after an instance. For example, if you want to extract price attribute from the my_chair object, you write `my_chair.price`."
   ]
  },
  {
   "cell_type": "code",
   "execution_count": 11,
   "metadata": {},
   "outputs": [
    {
     "name": "stdout",
     "output_type": "stream",
     "text": [
      "My chair's price is 70 dollars.\n",
      "Your chair's height is 42 inches.\n"
     ]
    }
   ],
   "source": [
    "print(f\"My chair's price is {my_chair.price} dollars.\")\n",
    "print(f\"Your chair's height is {your_chair.dimension['Height']} inches.\")"
   ]
  },
  {
   "cell_type": "markdown",
   "metadata": {},
   "source": [
    "Note that in the second example in the above cell, \"my_chair.dimension\" extracts the dictionary of the dimension of the chair. Adding a key (\"['Height']\" in this example) of the dictionary, you can access an element of it. As this example shows, the use of classes allows for the creation of complex data structures in which various data types are nested.<br><br>\n",
    "Once you create an instance, you can directly change values of the attributes as follows:"
   ]
  },
  {
   "cell_type": "code",
   "execution_count": 9,
   "metadata": {},
   "outputs": [
    {
     "name": "stdout",
     "output_type": "stream",
     "text": [
      "My chair's old price is 70 dollars.\n",
      "My chair's new price is 120 dollars.\n"
     ]
    }
   ],
   "source": [
    "print(f\"My chair's old price is {my_chair.price} dollars.\")\n",
    "my_chair.price = 120\n",
    "print(f\"My chair's new price is {my_chair.price} dollars.\")"
   ]
  },
  {
   "cell_type": "markdown",
   "metadata": {},
   "source": [
    "Now let's look at the syntax for defining a class. As mentioned, to define a class, use <b>class</b> command followed by the class name (of which the first letter must be uppercase) and a colon. "
   ]
  },
  {
   "cell_type": "code",
   "execution_count": 8,
   "metadata": {},
   "outputs": [],
   "source": [
    "class Chair:\n",
    "    def __init__(self, type, brand, dimension, color, price):\n",
    "        self.type = type\n",
    "        self.brand = brand\n",
    "        self.dimension = dimension\n",
    "        self.color = color\n",
    "        self.price = price"
   ]
  },
  {
   "cell_type": "markdown",
   "metadata": {},
   "source": [
    "The <b>def \\_\\_init__()</b> block in the above example is called <i>constructor</i>, which is automatically executed when an object of the class is created. In the constructor's parentheses, the first argument should be <b>self</b>, followed by any parameters that you wish to pass to the object upon creation. (Actually, the command to define a constructor is the same as the way to define a user-defined function, which will be explained in the next notebook.) When creating an instance, you must pass values for arguments other than <b>self</b>. (Please see the previous example.)<br><br>\n",
    "What is the meaning of <b>self</b>? <b>self</b> refers to the instance of the class. By using <b>self</b>, you can access the attributes (and methods) of the class within its own definition. Specfically, in the above example, the dot operator is used to assign values to attribute (`self.type = type`), which is gramatically identical to performing the same operation on instances (For example, `my_chair.price = 120`).\n",
    "<br><br>\n",
    "The constructor block in the above example only assigns the passed parameters to each attribute of the object. However, more complex processing is possible. For example, let's try to restrict the \"color\" attribute to only three colors: red, black, and other colors. In other words, let's change the constructor so that color attribute becomes \"other colors\" when colors other than red and black are input."
   ]
  },
  {
   "cell_type": "code",
   "execution_count": 15,
   "metadata": {},
   "outputs": [
    {
     "name": "stdout",
     "output_type": "stream",
     "text": [
      "My chair's color is black.\n",
      "Your chair's color is other colors.\n"
     ]
    }
   ],
   "source": [
    "class Chair:\n",
    "    def __init__(self, type, brand, dimension, color, price):\n",
    "\n",
    "        possible_colors = ['red', 'black'] # Colors not listed here will be recognized as \"other colors\"\n",
    "\n",
    "        self.type = type\n",
    "        self.brand = brand\n",
    "        self.dimension = dimension\n",
    "        self.price = price\n",
    "\n",
    "        # Check if the input color is in the possible_color\n",
    "        if color in possible_colors:\n",
    "            self.color = color\n",
    "        else:\n",
    "            self.color = 'other colors'\n",
    "\n",
    "my_chair = Chair('Office chair', 'Amazon Basics', {'Depth': 26, 'Width': 24, 'Height': 42}, 'black', 70)\n",
    "print(f\"My chair's color is {my_chair.color}.\")\n",
    "\n",
    "# Input 'indigo' as color\n",
    "your_chair = Chair('Office chair', 'Amazon Basics', {'Depth': 26, 'Width': 24, 'Height': 42}, 'indigo', 70)\n",
    "print(f\"Your chair's color is {your_chair.color}.\")\n"
   ]
  },
  {
   "cell_type": "markdown",
   "metadata": {},
   "source": [
    "Please note that in the above example, the evaluation of whether the input colors are other than red and black is done only when the instance is created. So if the color attribute is reassigned directly after the instance is created, it can be any color other than red and black."
   ]
  },
  {
   "cell_type": "code",
   "execution_count": 12,
   "metadata": {},
   "outputs": [
    {
     "name": "stdout",
     "output_type": "stream",
     "text": [
      "Your chair's color is indigo.\n"
     ]
    }
   ],
   "source": [
    "your_chair.color = 'indigo'\n",
    "print(f\"Your chair's color is {your_chair.color}.\")"
   ]
  },
  {
   "cell_type": "markdown",
   "metadata": {},
   "source": [
    "Lists and dictionaries can flexibly contain a variety of objects as elements, and can also store user-defined classes as follows:"
   ]
  },
  {
   "cell_type": "code",
   "execution_count": 17,
   "metadata": {},
   "outputs": [
    {
     "name": "stdout",
     "output_type": "stream",
     "text": [
      "Gaming chair\n"
     ]
    }
   ],
   "source": [
    "chair_list = [Chair('Office chair', 'Amazon Basics', {'Depth': 26, 'Width': 24, 'Height': 42}, 'black', 70),\n",
    "              Chair('Gaming chair', 'AKRacing', {'Depth': 20, 'Width': 24, 'Height': 44}, 'red', 300),\n",
    "              Chair('Ergonomic chair', 'Branch', {'Depth': 25, 'Width': 25, 'Height': 40}, 'red', 400)]\n",
    "\n",
    "print(chair_list[1].type) # note you can directly write the dot operator after the list element to retrieve attributes"
   ]
  },
  {
   "cell_type": "markdown",
   "metadata": {},
   "source": [
    "So far we have only discussed classes as data structures with multiple attributes. However, a more powerful element of a class is <i>method</i>. Just as there are various methods for manipulating list objects, for example, it is possible to define various operations on the classes you define. In the next chapter, we will first discuss <i>user-defined functions</i> and then explain how to define <i>methods</i> in a class."
   ]
  },
  {
   "cell_type": "markdown",
   "metadata": {},
   "source": [
    "#### Combined Example\n",
    "Let's combine the lists, dictionaries, and classes learned in this notebook to create a slightly more complex data structure. Specifically, we will create a chair inventory management system. (In this notebook, we have not yet discussed how to define methods, so we can only create a fairly simple structure, but we will develop it more in the next notebook.) <br><br>The code is as follows. First, we define the Chair class, but with a slight change from earlier, adding the attributes of item_id and quantity. Next, define the Inventory class. The Inventory class is at this stage just a dictionary and has no function. (`self.items = {}` declares the `items` attribute as an empty dictionary.)　We manage inventory by storing elements in this `Inventory.items` with the item_id as the key and the Chair object as the value.\n"
   ]
  },
  {
   "cell_type": "code",
   "execution_count": 15,
   "metadata": {},
   "outputs": [],
   "source": [
    "class Chair:\n",
    "    def __init__(self, item_id, type, brand, dimension, color, price, quantity):\n",
    "        self.item_id = item_id\n",
    "        self.type = type\n",
    "        self.brand = brand\n",
    "        self.dimension = dimension\n",
    "        self.color = color\n",
    "        self.price = price\n",
    "        self.quantity = quantity\n",
    "\n",
    "\n",
    "class Inventory:\n",
    "    def __init__(self):\n",
    "        self.items = {}\n",
    "\n",
    "\n",
    "# Create instance of inventory class\n",
    "inventory_A = Inventory()\n",
    "\n",
    "# Add items using item_id as the key and Chair object as the value\n",
    "inventory_A.items['0001'] = Chair('0001', 'Office chair', 'Amason Basics', {'Depth': 26, 'Width': 24, 'Height': 42}, 'black', 70, 20)\n",
    "inventory_A.items['0002'] = Chair('0002', 'Gaming chair', 'AKRacing', {'Depth': 20, 'Width': 24, 'Height': 44}, 'red', 300, 10)\n",
    "inventory_A.items['0003'] = Chair('0003', 'Ergonomic chair', 'Branch', {'Depth': 25, 'Width': 25, 'Height': 40}, 'red', 400, 10)"
   ]
  },
  {
   "cell_type": "markdown",
   "metadata": {},
   "source": [
    "Now, you can access the information of an item by using item_id as follows:"
   ]
  },
  {
   "cell_type": "code",
   "execution_count": 18,
   "metadata": {},
   "outputs": [
    {
     "name": "stdout",
     "output_type": "stream",
     "text": [
      "item_id 0001's quantity is 20\n"
     ]
    }
   ],
   "source": [
    "print(f\"item_id 0001's quantity is {inventory_A.items['0001'].quantity}\")"
   ]
  },
  {
   "cell_type": "markdown",
   "metadata": {},
   "source": [
    "Also, if there is a change in the amount of inventory, the information can be updated as follows"
   ]
  },
  {
   "cell_type": "code",
   "execution_count": 19,
   "metadata": {},
   "outputs": [
    {
     "name": "stdout",
     "output_type": "stream",
     "text": [
      "Now, item_id 0001's quantity is 10\n"
     ]
    }
   ],
   "source": [
    "inventory_A.items['0001'].quantity = 10\n",
    "\n",
    "print(f\"Now, item_id 0001's quantity is {inventory_A.items['0001'].quantity}\")"
   ]
  },
  {
   "cell_type": "markdown",
   "metadata": {},
   "source": [
    "As above, a primitive inventory management system is already in place. However, we will explain how to define methods in classes in the next chapter, and we will develop the inventory management system into a more convenient one."
   ]
  }
 ],
 "metadata": {
  "kernelspec": {
   "display_name": "Python 3 (ipykernel)",
   "language": "python",
   "name": "python3"
  },
  "language_info": {
   "codemirror_mode": {
    "name": "ipython",
    "version": 3
   },
   "file_extension": ".py",
   "mimetype": "text/x-python",
   "name": "python",
   "nbconvert_exporter": "python",
   "pygments_lexer": "ipython3",
   "version": "3.11.9"
  }
 },
 "nbformat": 4,
 "nbformat_minor": 4
}
