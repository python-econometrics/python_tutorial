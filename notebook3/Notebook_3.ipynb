{
 "cells": [
  {
   "cell_type": "markdown",
   "metadata": {},
   "source": [
    "## ECON XXX (Course Title)\n",
    "## 3. User-defined Functions and Methods"
   ]
  },
  {
   "cell_type": "markdown",
   "metadata": {},
   "source": [
    "### 3.1. User-defined Functions\n",
    "Various built-in functions are available in Python. For example, the <b>len()</b> function returns the number of elements in an object such as a list. In addition to them, you can define your own new functions to perform specific tasks. Such functions are called <i>user-defined functions</i>.\n",
    "#### Basic Syntax\n",
    "To define a new function, you will use a <b>def</b> keyword. A function can be declared by writing <b>def</b> followed by the function name, parentheses, and a colon. In the lines after <b>def</b>, write the processes to be performed when the function is executed. They must be indented like if and loop statements. The example below is a function that simply outputs \"Hello, World!\""
   ]
  },
  {
   "cell_type": "code",
   "execution_count": 1,
   "metadata": {},
   "outputs": [
    {
     "name": "stdout",
     "output_type": "stream",
     "text": [
      "Hello, World!\n"
     ]
    }
   ],
   "source": [
    "def print_hello():\n",
    "    print(\"Hello, World!\")\n",
    "\n",
    "print_hello()"
   ]
  },
  {
   "cell_type": "markdown",
   "metadata": {},
   "source": [
    "Like built-in functions, user-defined functions can also take arguments and change their processing depending on the arguments. Arguments are written in parentheses in the function declaration. The function in the following example takes a string as an input, and process it."
   ]
  },
  {
   "cell_type": "code",
   "execution_count": 3,
   "metadata": {},
   "outputs": [
    {
     "name": "stdout",
     "output_type": "stream",
     "text": [
      "The input is \"Hello\". 1/3\n",
      "The input is \"Hello\". 2/3\n",
      "The input is \"Hello\". 3/3\n"
     ]
    }
   ],
   "source": [
    "def print_three_times(text):\n",
    "    print(f'The input is \"{text}\". 1/3') # Remember f'' is a f-string\n",
    "    print(f'The input is \"{text}\". 2/3')\n",
    "    print(f'The input is \"{text}\". 3/3')\n",
    "\n",
    "print_three_times('Hello')"
   ]
  },
  {
   "cell_type": "markdown",
   "metadata": {},
   "source": [
    "While the above examples only print strings, a function typically returns a value for the input, like the <b>len()</b> function. To return a value from an user-defined function, you use <b>return</b> keyword followed by values you want to return. The following example returns the factorial of an input value."
   ]
  },
  {
   "cell_type": "code",
   "execution_count": 5,
   "metadata": {},
   "outputs": [
    {
     "name": "stdout",
     "output_type": "stream",
     "text": [
      "The factorial of 10 is 3628800\n"
     ]
    }
   ],
   "source": [
    "def calc_factorial(a):\n",
    "    factorial = 1\n",
    "\n",
    "    for i in range(a):\n",
    "       factorial = factorial * (i+1)\n",
    "\n",
    "    return factorial\n",
    "\n",
    "\n",
    "print(f'The factorial of 10 is {calc_factorial(10)}')"
   ]
  },
  {
   "cell_type": "markdown",
   "metadata": {},
   "source": [
    "If you want to return multiple values, separate them with a comma. To receive multiple return values executing the function, you can separate variables with commas in the same way, or you can receive return values as a single tuple."
   ]
  },
  {
   "cell_type": "code",
   "execution_count": 8,
   "metadata": {},
   "outputs": [
    {
     "name": "stdout",
     "output_type": "stream",
     "text": [
      "100 USD equals to 90.0 EUR and 15000 JPY.\n",
      "100 USD equals to 90.0 EUR and 15000 JPY.\n"
     ]
    }
   ],
   "source": [
    "def currency_convert(dollar):\n",
    "    \"\"\" Convert dollar into euro and yen \"\"\"\n",
    "    eur = 0.9 # Exchange rate\n",
    "    jpy = 150\n",
    "\n",
    "    return dollar*eur, dollar*jpy\n",
    "\n",
    "\n",
    "# Receve as two variables\n",
    "eur_val, jpy_val = currency_convert(100)\n",
    "print(f'100 USD equals to {eur_val} EUR and {jpy_val} JPY.')\n",
    "\n",
    "\n",
    "# Receve as a tuple\n",
    "val = currency_convert(100)\n",
    "print(f'100 USD equals to {val[0]} EUR and {val[1]} JPY.')\n"
   ]
  },
  {
   "cell_type": "markdown",
   "metadata": {},
   "source": [
    "You can return objects such as lists as well as values."
   ]
  },
  {
   "cell_type": "code",
   "execution_count": 9,
   "metadata": {},
   "outputs": [
    {
     "name": "stdout",
     "output_type": "stream",
     "text": [
      "100 USD equals to 90.0 EUR and 15000 JPY.\n"
     ]
    }
   ],
   "source": [
    "def currency_convert(dollar):\n",
    "    \"\"\" Convert dollar into euro and yen \"\"\"\n",
    "    eur = 0.9 # Exchange rate\n",
    "    jpy = 150\n",
    "    val_list = [dollar*eur, dollar*jpy]\n",
    "\n",
    "    return val_list # return a list\n",
    "\n",
    "\n",
    "# Receve as two variables\n",
    "val_list = currency_convert(100)\n",
    "print(f'100 USD equals to {val_list[0]} EUR and {val_list[1]} JPY.')"
   ]
  },
  {
   "cell_type": "markdown",
   "metadata": {},
   "source": [
    "#### More on Auguments\n",
    "Python has two types of arguments: <i>positional</i> and <i>keyword</i> arguments. <i>Positional arguments</i> are a way to pass arguments directly to a function in the order in which they are defined. Values are passed to the function according to the order of the parameters specified in the function definition. In the example below, the first argument entered when the function is called is stored in `first_name`, and the second argument is stored in `last_name`."
   ]
  },
  {
   "cell_type": "code",
   "execution_count": 14,
   "metadata": {},
   "outputs": [
    {
     "name": "stdout",
     "output_type": "stream",
     "text": [
      "The input name is John Smith\n"
     ]
    }
   ],
   "source": [
    "def print_name(first_name, last_name):\n",
    "    print(f'The input name is {first_name} {last_name}')\n",
    "\n",
    "print_name('John', 'Smith')"
   ]
  },
  {
   "cell_type": "markdown",
   "metadata": {},
   "source": [
    "<i>Keyword arguments</i>, on the other hand, allow arguments to be specified directly by name, allowing the order of arguments passed to the function to be changed. This is done by specifying the name of the argument and its value in the `keyword=value` format when the function is called."
   ]
  },
  {
   "cell_type": "code",
   "execution_count": 13,
   "metadata": {},
   "outputs": [
    {
     "name": "stdout",
     "output_type": "stream",
     "text": [
      "The input name is John Smith\n"
     ]
    }
   ],
   "source": [
    "def print_name(first_name, last_name):\n",
    "    print(f'The input name is {first_name} {last_name}')\n",
    "\n",
    "print_name(last_name='Smith', first_name='John')"
   ]
  },
  {
   "cell_type": "markdown",
   "metadata": {},
   "source": [
    "Functions can also be called with a combination of positional and keyword arguments. In this case, the positional argument must be specified first, followed by the keyword argument. If the keyword argument precedes the positional argument, a syntax error occurs."
   ]
  },
  {
   "cell_type": "code",
   "execution_count": 15,
   "metadata": {},
   "outputs": [
    {
     "name": "stdout",
     "output_type": "stream",
     "text": [
      "The input name is John Smith. The age is 25.\n"
     ]
    }
   ],
   "source": [
    "def print_name_age(first_name, last_name, age):\n",
    "    print(f'The input name is {first_name} {last_name}. The age is {age}.')\n",
    "\n",
    "print_name_age('John', 'Smith', age=25)"
   ]
  },
  {
   "cell_type": "code",
   "execution_count": 16,
   "metadata": {},
   "outputs": [
    {
     "ename": "SyntaxError",
     "evalue": "positional argument follows keyword argument (2145911858.py, line 5)",
     "output_type": "error",
     "traceback": [
      "\u001b[0;36m  Cell \u001b[0;32mIn[16], line 5\u001b[0;36m\u001b[0m\n\u001b[0;31m    print_name_age(age=25, 'John', 'Smith')\u001b[0m\n\u001b[0m                                          ^\u001b[0m\n\u001b[0;31mSyntaxError\u001b[0m\u001b[0;31m:\u001b[0m positional argument follows keyword argument\n"
     ]
    }
   ],
   "source": [
    "# Wrong code\n",
    "def print_name_age(first_name, last_name, age):\n",
    "    print(f'The input name is {first_name} {last_name}. The age is {age}.')\n",
    "\n",
    "print_name_age(age=25, 'John', 'Smith')"
   ]
  },
  {
   "cell_type": "markdown",
   "metadata": {},
   "source": [
    "You can set default values for arguments when you define a function, allowing you to omit them when calling the function. You can assign a default value by simply writing `=value` when you declare a function."
   ]
  },
  {
   "cell_type": "code",
   "execution_count": 19,
   "metadata": {},
   "outputs": [
    {
     "name": "stdout",
     "output_type": "stream",
     "text": [
      "The input name is John Smith. The age is 25. Graduated from University of Maryland.\n",
      "The input name is Jane Smith. The age is 30. Graduated from Johns Hopkins University.\n"
     ]
    }
   ],
   "source": [
    "def print_name_age_univ(first_name, last_name, age, university='University of Maryland'):\n",
    "    print(f'The input name is {first_name} {last_name}. The age is {age}. Graduated from {university}.')\n",
    "\n",
    "print_name_age_univ('John', 'Smith', 25)\n",
    "print_name_age_univ('Jane', 'Smith', 30, 'Johns Hopkins University')"
   ]
  },
  {
   "cell_type": "markdown",
   "metadata": {},
   "source": [
    "Note that default arguments must not be placed before non-default arguments."
   ]
  },
  {
   "cell_type": "code",
   "execution_count": 21,
   "metadata": {},
   "outputs": [
    {
     "ename": "SyntaxError",
     "evalue": "non-default argument follows default argument (2577534966.py, line 2)",
     "output_type": "error",
     "traceback": [
      "\u001b[0;36m  Cell \u001b[0;32mIn[21], line 2\u001b[0;36m\u001b[0m\n\u001b[0;31m    def print_name_age_univ(university='University of Maryland', first_name, last_name, age):\u001b[0m\n\u001b[0m                                                                 ^\u001b[0m\n\u001b[0;31mSyntaxError\u001b[0m\u001b[0;31m:\u001b[0m non-default argument follows default argument\n"
     ]
    }
   ],
   "source": [
    "# Wrong code\n",
    "def print_name_age_univ(university='University of Maryland', first_name, last_name, age):\n",
    "    print(f'The input name is {first_name} {last_name}. The age is {age}. Graduated from {university}.')\n"
   ]
  },
  {
   "cell_type": "markdown",
   "metadata": {},
   "source": [
    "#### Variable Scope\n",
    "It is important to understand the <i>scope</i> of variables when working with user-defined functions. The scope of a variable is the range that defines from which parts of the program the variable can be accessed. Python has several types of scopes, but let's focus on <i>global</i> and <i>local</i> scopes here.<br><br>\n",
    "<b>Global scope</b>: Variables defined outside of a function belong to the global scope. They can be accessed from anywhere in the program.<br><br>\n",
    "<b>Local scope</b>: Variables defined within a function belong to the local scope. These variables are accessible only from inside the function in which they are defined.<br><br>\n",
    "You can access global variables from inside a function as follow:"
   ]
  },
  {
   "cell_type": "code",
   "execution_count": 1,
   "metadata": {},
   "outputs": [
    {
     "name": "stdout",
     "output_type": "stream",
     "text": [
      "Inside a function\n",
      "Global variable: Global\n",
      "Local variable: Local\n"
     ]
    }
   ],
   "source": [
    "global_var = \"Global\"\n",
    "\n",
    "def print_a():\n",
    "    local_var = \"Local\"\n",
    "    print('Inside a function')\n",
    "    print(f'Global variable: {global_var}')\n",
    "    print(f'Local variable: {local_var}')\n",
    "\n",
    "print_a()"
   ]
  },
  {
   "cell_type": "markdown",
   "metadata": {},
   "source": [
    "However, you cannot directly access local variables from outside of a function."
   ]
  },
  {
   "cell_type": "code",
   "execution_count": 3,
   "metadata": {},
   "outputs": [
    {
     "name": "stdout",
     "output_type": "stream",
     "text": [
      "Inside a function\n",
      "Global variable: Global\n",
      "Local variable: Local\n",
      "\n",
      "Outside a function\n",
      "Global variable: Global\n"
     ]
    },
    {
     "ename": "NameError",
     "evalue": "name 'local_var' is not defined",
     "output_type": "error",
     "traceback": [
      "\u001b[0;31m---------------------------------------------------------------------------\u001b[0m",
      "\u001b[0;31mNameError\u001b[0m                                 Traceback (most recent call last)",
      "Cell \u001b[0;32mIn[3], line 14\u001b[0m\n\u001b[1;32m     12\u001b[0m \u001b[38;5;28mprint\u001b[39m(\u001b[38;5;124m'\u001b[39m\u001b[38;5;124mOutside a function\u001b[39m\u001b[38;5;124m'\u001b[39m)\n\u001b[1;32m     13\u001b[0m \u001b[38;5;28mprint\u001b[39m(\u001b[38;5;124mf\u001b[39m\u001b[38;5;124m'\u001b[39m\u001b[38;5;124mGlobal variable: \u001b[39m\u001b[38;5;132;01m{\u001b[39;00mglobal_var\u001b[38;5;132;01m}\u001b[39;00m\u001b[38;5;124m'\u001b[39m)\n\u001b[0;32m---> 14\u001b[0m \u001b[38;5;28mprint\u001b[39m(\u001b[38;5;124mf\u001b[39m\u001b[38;5;124m'\u001b[39m\u001b[38;5;124mLocal variable: \u001b[39m\u001b[38;5;132;01m{\u001b[39;00mlocal_var\u001b[38;5;132;01m}\u001b[39;00m\u001b[38;5;124m'\u001b[39m)\n",
      "\u001b[0;31mNameError\u001b[0m: name 'local_var' is not defined"
     ]
    }
   ],
   "source": [
    "global_var = \"Global\"\n",
    "\n",
    "def print_a():\n",
    "    local_var = \"Local\"\n",
    "    print('Inside a function')\n",
    "    print(f'Global variable: {global_var}')\n",
    "    print(f'Local variable: {local_var}')\n",
    "\n",
    "print_a()\n",
    "\n",
    "print()\n",
    "print('Outside a function')\n",
    "print(f'Global variable: {global_var}')\n",
    "print(f'Local variable: {local_var}') # An error will occur"
   ]
  },
  {
   "cell_type": "markdown",
   "metadata": {},
   "source": [
    "In the example below, variable `a` is first defined outside the function. A new value is assigned to `a` inside a function, but `a` remains the same outside the function."
   ]
  },
  {
   "cell_type": "code",
   "execution_count": 32,
   "metadata": {},
   "outputs": [
    {
     "name": "stdout",
     "output_type": "stream",
     "text": [
      "Inside: NEW\n",
      "Outside: OLD\n"
     ]
    }
   ],
   "source": [
    "a = \"OLD\"\n",
    "\n",
    "def print_a():\n",
    "    a = \"NEW\"\n",
    "    print(f'Inside: {a}')\n",
    "\n",
    "print_a()\n",
    "print(f'Outside: {a}')\n"
   ]
  },
  {
   "cell_type": "markdown",
   "metadata": {},
   "source": [
    "If you want to rewrite global variables directly from inside a function, use the <b>global</b> keyword as follows:"
   ]
  },
  {
   "cell_type": "code",
   "execution_count": 33,
   "metadata": {},
   "outputs": [
    {
     "name": "stdout",
     "output_type": "stream",
     "text": [
      "Inside: NEW\n",
      "Outside: NEW\n"
     ]
    }
   ],
   "source": [
    "a = \"OLD\"\n",
    "\n",
    "def print_a():\n",
    "    global a # Declare global a as a global variable\n",
    "    a = \"NEW\"\n",
    "    print(f'Inside: {a}')\n",
    "\n",
    "print_a()\n",
    "print(f'Outside: {a}')"
   ]
  },
  {
   "cell_type": "markdown",
   "metadata": {},
   "source": [
    "### 3.2. Defining Methods in a Class\n",
    "As previously explained in Chapter 2, methods provide a means to perform operations on objects. As with Built-in objects, you can define methods on user-defined classes to access and modify the data (attributes) held by instances of that class.<br><br>\n",
    "#### Basic Syntax\n",
    "First, recall how to define a class."
   ]
  },
  {
   "cell_type": "code",
   "execution_count": 35,
   "metadata": {},
   "outputs": [],
   "source": [
    "class Chair:\n",
    "    def __init__(self, item_id, type, brand, dimension, color, price, quantity):\n",
    "        self.item_id = item_id\n",
    "        self.type = type\n",
    "        self.brand = brand\n",
    "        self.dimension = dimension\n",
    "        self.color = color\n",
    "        self.price = price\n",
    "        self.quantity = quantity\n"
   ]
  },
  {
   "cell_type": "markdown",
   "metadata": {},
   "source": [
    "Recall that the <b>def \\_\\_init__()</b> block in the above example is called <i>constructor</i>, which is automatically executed when an object of the class is created. Perhaps you may notice that the way the constructor is declared is similar to that of a user-defined function.<br><br>\n",
    "A method is a function defined within a class, and its syntax is similar to that of a user-defined function, using the <b>def</b> keyword. The only difference is that the first argument is (conventionally) named `self` and refers to the instance itself. `self` can be used to access other methods and attributes of the class. A constructor is a special method that is automatically called when an instance of a class is created.<br><br>\n",
    "Let's define a method other than the constructor."
   ]
  },
  {
   "cell_type": "code",
   "execution_count": 38,
   "metadata": {},
   "outputs": [],
   "source": [
    "class Chair:\n",
    "    def __init__(self, item_id, type, brand, dimension, color, price, quantity):\n",
    "        self.item_id = item_id\n",
    "        self.type = type\n",
    "        self.brand = brand\n",
    "        self.dimension = dimension\n",
    "        self.color = color\n",
    "        self.price = price\n",
    "        self.quantity = quantity\n",
    "\n",
    "    def add_quantity(self, q):\n",
    "        self.quantity = self.quantity + q"
   ]
  },
  {
   "cell_type": "markdown",
   "metadata": {},
   "source": [
    "The `add_quantity` method in the above example adds the input quantity to the quantity. Note that by using `self`, the class can manipulate its own (instance's) attributes.\n",
    "<br><br>You can call methods of a user-defined class in the same way as for build-in objects."
   ]
  },
  {
   "cell_type": "code",
   "execution_count": 39,
   "metadata": {},
   "outputs": [
    {
     "name": "stdout",
     "output_type": "stream",
     "text": [
      "The quantity of 0002 is 10\n",
      "Now, the quantity of 0002 is 20\n"
     ]
    }
   ],
   "source": [
    "chair2 = Chair('0002', 'Gaming chair', 'AKRacing', {'Depth': 20, 'Width': 24, 'Height': 44}, 'red', 300, 10)\n",
    "\n",
    "print(f'The quantity of {chair2.item_id} is {chair2.quantity}')\n",
    "\n",
    "# Call the method\n",
    "chair2.add_quantity(10)\n",
    "print(f'Now, the quantity of {chair2.item_id} is {chair2.quantity}')"
   ]
  },
  {
   "cell_type": "markdown",
   "metadata": {},
   "source": [
    "It can also return a value, as in the case of a user-defined function. One difference from user-defined functions is that return values can be created using attributes of the instance. In the example below, the `dimension` attribute of the instance is used to calculate the volume."
   ]
  },
  {
   "cell_type": "code",
   "execution_count": 41,
   "metadata": {},
   "outputs": [
    {
     "name": "stdout",
     "output_type": "stream",
     "text": [
      "The volume is 21120\n"
     ]
    }
   ],
   "source": [
    "class Chair:\n",
    "    def __init__(self, item_id, type, brand, dimension, color, price, quantity):\n",
    "        self.item_id = item_id\n",
    "        self.type = type\n",
    "        self.brand = brand\n",
    "        self.dimension = dimension\n",
    "        self.color = color\n",
    "        self.price = price\n",
    "        self.quantity = quantity\n",
    "\n",
    "    def add_quantity(self, q):\n",
    "        self.quantity = self.quantity + q\n",
    "\n",
    "    def calc_volume(self):\n",
    "        volume = self.dimension['Depth'] * self.dimension['Width'] * self.dimension['Height']\n",
    "        return volume\n",
    "    \n",
    "\n",
    "chair2 = Chair('0002', 'Gaming chair', 'AKRacing', {'Depth': 20, 'Width': 24, 'Height': 44}, 'red', 300, 10)\n",
    "\n",
    "vol_chair2 = chair2.calc_volume()\n",
    "\n",
    "print(f'The volume is {vol_chair2}')"
   ]
  },
  {
   "cell_type": "markdown",
   "metadata": {},
   "source": [
    "#### Combined Example (Continued)"
   ]
  },
  {
   "cell_type": "markdown",
   "metadata": {},
   "source": [
    "Let's extend the inventory management system created in Chapter 2 by defining some methods. The following are classes created in Chapter 2. These have only constructors."
   ]
  },
  {
   "cell_type": "code",
   "execution_count": null,
   "metadata": {},
   "outputs": [],
   "source": [
    "class Chair:\n",
    "    def __init__(self, item_id, type, brand, dimension, color, price, quantity):\n",
    "        self.item_id = item_id\n",
    "        self.type = type\n",
    "        self.brand = brand\n",
    "        self.dimension = dimension\n",
    "        self.color = color\n",
    "        self.price = price\n",
    "        self.quantity = quantity\n",
    "\n",
    "\n",
    "class Inventory:\n",
    "    def __init__(self):\n",
    "        self.items = {}"
   ]
  },
  {
   "cell_type": "markdown",
   "metadata": {},
   "source": [
    "Various architectures are possible, but here we will leave the Chair class as a data structure only and gather the functions in the Inventory class. We implement the following five functions for inventory management: 1. register new item, 2. update quantity, 3. display item information, and 4. delete item 5. display all items with price and quantity. This may seem complicated at first glance, but it is understandable based on what we have learned so far."
   ]
  },
  {
   "cell_type": "code",
   "execution_count": 5,
   "metadata": {},
   "outputs": [
    {
     "name": "stdout",
     "output_type": "stream",
     "text": [
      "\n",
      "Item_id 0001 registered\n",
      "\n",
      "Item_id 0002 registered\n",
      "\n",
      "Item_id 0003 registered\n",
      "\n",
      "  Item_id   |   Price    |  Quantity  \n",
      "-------------------------------------\n",
      "    0001    |     70     |     20     \n",
      "    0002    |    300     |     10     \n",
      "    0003    |    400     |     10     \n",
      "\n",
      "Show information of item_id: 0002\n",
      "Type: Gaming chair\n",
      "Brand: AKRacing\n",
      "Dimention: {'Depth': 20, 'Width': 24, 'Height': 44}\n",
      "Color: red\n",
      "Price: 300\n",
      "Quantity: 10\n",
      "\n",
      "Quantity of item_id 0002 has changed:\n",
      "Old quantity: 10\n",
      "New quantity: 5\n",
      "\n",
      "del_item error: Item_id 0004 not found\n",
      "\n",
      "Item_id 0003 deleted\n",
      "\n",
      "  Item_id   |   Price    |  Quantity  \n",
      "-------------------------------------\n",
      "    0001    |     70     |     20     \n",
      "    0002    |    300     |     5      \n"
     ]
    }
   ],
   "source": [
    "class Chair:\n",
    "    def __init__(self, item_id, type, brand, dimension, color, price, quantity):\n",
    "        self.item_id = item_id\n",
    "        self.type = type\n",
    "        self.brand = brand\n",
    "        self.dimension = dimension\n",
    "        self.color = color\n",
    "        self.price = price\n",
    "        self.quantity = quantity\n",
    "\n",
    "\n",
    "class Inventory:\n",
    "    def __init__(self):\n",
    "        self.items = {}\n",
    "\n",
    "    # 1. register new item\n",
    "    def register_item(self, item_id, type, brand, dimension, color, price, quantity):\n",
    "        # Create an instance of Chair class, and store it in self.items dictionary (key = item_id)\n",
    "        self.items[item_id] = Chair(item_id, type, brand, dimension, color, price, quantity)\n",
    "        print()\n",
    "        print(f'Item_id {item_id} registered')\n",
    "\n",
    "    # 2. update quantity\n",
    "    def add_quantity(self, item_id, q):\n",
    "        if item_id in self.items:\n",
    "            print()\n",
    "            print(f'Quantity of item_id {item_id} has changed:')\n",
    "            print(f'Old quantity: {self.items[item_id].quantity}')\n",
    "            self.items[item_id].quantity = self.items[item_id].quantity + q\n",
    "            print(f'New quantity: {self.items[item_id].quantity}')\n",
    "        else:\n",
    "            print()\n",
    "            print(f'add_quantity error: Item_id {item_id} not found')\n",
    "        \n",
    "    # 3. display item information\n",
    "    def disp_info(self, item_id):\n",
    "        if item_id in self.items:\n",
    "            print()\n",
    "            print(f'Show information of item_id: {self.items[item_id].item_id}')\n",
    "            print(f'Type: {self.items[item_id].type}')\n",
    "            print(f'Brand: {self.items[item_id].brand}')\n",
    "            print(f'Dimention: {self.items[item_id].dimension}')\n",
    "            print(f'Color: {self.items[item_id].color}')\n",
    "            print(f'Price: {self.items[item_id].price}')\n",
    "            print(f'Quantity: {self.items[item_id].quantity}')\n",
    "        else:\n",
    "            print()\n",
    "            print(f'disp_info error: Item_id {item_id} not found')\n",
    "        \n",
    "    # 4. delete item\n",
    "    def del_item(self, item_id):\n",
    "        if item_id in self.items:\n",
    "            self.items.pop(item_id)\n",
    "            print()\n",
    "            print(f'Item_id {item_id} deleted')\n",
    "        else:\n",
    "            print()\n",
    "            print(f'del_item error: Item_id {item_id} not found')\n",
    "\n",
    "    # 5. display items\n",
    "    def disp_items(self):\n",
    "        print()\n",
    "        print(f\"{'Item_id':^12}|{'Price':^12}|{'Quantity':^12}\") # note ':^12' specifies a output format\n",
    "        print('-------------------------------------')\n",
    "        for k, v in self.items.items():\n",
    "            print(f\"{k:^12}|{v.price:^12}|{v.quantity:^12}\")\n",
    "\n",
    "\n",
    "#Create instance of inventory class\n",
    "inventory_A = Inventory()\n",
    "\n",
    "# Add items using register_item method\n",
    "inventory_A.register_item('0001', 'Office chair', 'Amason Basics', {'Depth': 26, 'Width': 24, 'Height': 42}, 'black', 70, 20)\n",
    "inventory_A.register_item('0002', 'Gaming chair', 'AKRacing', {'Depth': 20, 'Width': 24, 'Height': 44}, 'red', 300, 10)\n",
    "inventory_A.register_item('0003', 'Ergonomic chair', 'Branch', {'Depth': 25, 'Width': 25, 'Height': 40}, 'red', 400, 10)\n",
    "\n",
    "# Display all items\n",
    "inventory_A.disp_items()\n",
    "\n",
    "# Display information of 0002\n",
    "inventory_A.disp_info('0002')\n",
    "\n",
    "# Change quantity of 0002\n",
    "inventory_A.add_quantity('0002',-5)\n",
    "\n",
    "# Delete an item using del_item method\n",
    "inventory_A.del_item('0004')\n",
    "inventory_A.del_item('0003')\n",
    "\n",
    "# Display all items again\n",
    "inventory_A.disp_items()"
   ]
  },
  {
   "cell_type": "markdown",
   "metadata": {},
   "source": [
    "### 3.3. More on Classes (Advanced Topics)\n",
    "#### Inheritance\n",
    "<i>Inheritance</i> is one of the fundamental concepts of object-oriented programming (OOP) and a powerful means of code reuse. Specifically, it allows you to create new classes by extending already existing classes. Using inheritance, attributes and methods of an existing class (a parent class) can be inherited by a new class (a child class).\n",
    "\n",
    "The basic syntax for inheritance is as follows: `class <Child Class> (<Parent Class>):`. Please see the following example."
   ]
  },
  {
   "cell_type": "code",
   "execution_count": 65,
   "metadata": {},
   "outputs": [
    {
     "name": "stdout",
     "output_type": "stream",
     "text": [
      "Hello World!\n"
     ]
    }
   ],
   "source": [
    "class ParentClass:\n",
    "    def hello(self):\n",
    "        print('Hello World!')\n",
    "\n",
    "class ChildClass(ParentClass): # This class inherits all attributes and methods of ParentClass\n",
    "    pass # Note that 'pass' keyword means \"do nothing.\" i.e. nothing is changed from the parent class here\n",
    "\n",
    "Child = ChildClass()\n",
    "Child.hello() # Use a method defined in the parent class"
   ]
  },
  {
   "cell_type": "markdown",
   "metadata": {},
   "source": [
    "You can also redefine methods defined in the parent class (<i>method overriding</i>). This allows you to customize certain operations on instances of derived classes. "
   ]
  },
  {
   "cell_type": "code",
   "execution_count": 70,
   "metadata": {},
   "outputs": [
    {
     "name": "stdout",
     "output_type": "stream",
     "text": [
      "Hello Python!\n"
     ]
    }
   ],
   "source": [
    "class ParentClass:\n",
    "    def hello(self):\n",
    "        print('Hello World!')\n",
    "\n",
    "class ChildClass(ParentClass): \n",
    "    def hello(self): # Redefine hello method\n",
    "        print('Hello Python!')\n",
    "\n",
    "Child = ChildClass()\n",
    "Child.hello()"
   ]
  },
  {
   "cell_type": "markdown",
   "metadata": {},
   "source": [
    "To call a method of the parent class from inside a child class, use the <b>super()</b> function. This is especially useful when overriding base class methods in derived classes to extend the base class implementation. In the following example, when overriding the hello method, the hello method of the parent class is called. As a result, both the original and the new message are displayed."
   ]
  },
  {
   "cell_type": "code",
   "execution_count": 69,
   "metadata": {},
   "outputs": [
    {
     "name": "stdout",
     "output_type": "stream",
     "text": [
      "Hello World!\n",
      "Hello Python!\n"
     ]
    }
   ],
   "source": [
    "class ParentClass:\n",
    "    def hello(self):\n",
    "        print('Hello World!')\n",
    "\n",
    "class ChildClass(ParentClass): \n",
    "    def hello(self):\n",
    "        super().hello() # Call the original hello method of the parent class\n",
    "        print('Hello Python!')\n",
    "\n",
    "Child = ChildClass()\n",
    "Child.hello()"
   ]
  },
  {
   "cell_type": "markdown",
   "metadata": {},
   "source": [
    "As a practical example, let us extend the inventory management system described earlier using inheritance. Specifically, suppose you want to update your original inventory management system to indicate whether an item is available for sale in your company's online store.<br><br>\n",
    "First, let's run the code of the original inventory management system code to define parent classess."
   ]
  },
  {
   "cell_type": "code",
   "execution_count": 2,
   "metadata": {},
   "outputs": [],
   "source": [
    "# repetition of the previous code\n",
    "class Chair:\n",
    "    def __init__(self, item_id, type, brand, dimension, color, price, quantity):\n",
    "        self.item_id = item_id\n",
    "        self.type = type\n",
    "        self.brand = brand\n",
    "        self.dimension = dimension\n",
    "        self.color = color\n",
    "        self.price = price\n",
    "        self.quantity = quantity\n",
    "\n",
    "\n",
    "class Inventory:\n",
    "    def __init__(self):\n",
    "        self.items = {}\n",
    "\n",
    "    # 1. register new item\n",
    "    def register_item(self, item_id, type, brand, dimension, color, price, quantity):\n",
    "        # Create an instance of Chair class, and store it in self.items dictionary (key = item_id)\n",
    "        self.items[item_id] = Chair(item_id, type, brand, dimension, color, price, quantity)\n",
    "        print()\n",
    "        print(f'Item_id {item_id} registered')\n",
    "\n",
    "    # 2. update quantity\n",
    "    def add_quantity(self, item_id, q):\n",
    "        if item_id in self.items:\n",
    "            print()\n",
    "            print(f'Quantity of item_id {item_id} has changed:')\n",
    "            print(f'Old quantity: {self.items[item_id].quantity}')\n",
    "            self.items[item_id].quantity = self.items[item_id].quantity + q\n",
    "            print(f'New quantity: {self.items[item_id].quantity}')\n",
    "        else:\n",
    "            print()\n",
    "            print(f'add_quantity error: Item_id {item_id} not found')\n",
    "        \n",
    "    # 3. display item information\n",
    "    def disp_info(self, item_id):\n",
    "        if item_id in self.items:\n",
    "            print()\n",
    "            print(f'Show information of item_id: {self.items[item_id].item_id}')\n",
    "            print(f'Type: {self.items[item_id].type}')\n",
    "            print(f'Brand: {self.items[item_id].brand}')\n",
    "            print(f'Dimention: {self.items[item_id].dimension}')\n",
    "            print(f'Color: {self.items[item_id].color}')\n",
    "            print(f'Price: {self.items[item_id].price}')\n",
    "            print(f'Quantity: {self.items[item_id].quantity}')\n",
    "        else:\n",
    "            print()\n",
    "            print(f'disp_info error: Item_id {item_id} not found')\n",
    "        \n",
    "    # 4. delete item\n",
    "    def del_item(self, item_id):\n",
    "        if item_id in self.items:\n",
    "            self.items.pop(item_id)\n",
    "            print()\n",
    "            print(f'Item_id {item_id} deleted')\n",
    "        else:\n",
    "            print()\n",
    "            print(f'del_item error: Item_id {item_id} not found')\n",
    "\n",
    "    # 5. display items\n",
    "    def disp_items(self):\n",
    "        print()\n",
    "        print(f\"{'Item_id':^12}|{'Price':^12}|{'Quantity':^12}\") # note ':^12' specifies a output format\n",
    "        print('-------------------------------------')\n",
    "        for k, v in self.items.items():\n",
    "            print(f\"{k:^12}|{v.price:^12}|{v.quantity:^12}\")\n"
   ]
  },
  {
   "cell_type": "markdown",
   "metadata": {},
   "source": [
    "Now, let's define the `ChairNew` and `InventoryNew` classes by inheriting from the `Chair` and `Inventory` classes so that they can handle information about sales status in the online store."
   ]
  },
  {
   "cell_type": "code",
   "execution_count": 5,
   "metadata": {},
   "outputs": [
    {
     "name": "stdout",
     "output_type": "stream",
     "text": [
      "item_id 0001 registered\n",
      "item_id 0002 registered\n",
      "item_id 0003 registered\n",
      "\n",
      "  Item_id   |   Price    |  Quantity  |   Online   \n",
      "-------------------------------------------------\n",
      "    0001    |     70     |     20     |   False    \n",
      "    0002    |    300     |     10     |    True    \n",
      "    0003    |    400     |     10     |    True    \n",
      "\n",
      "Show information of item_id: 0002\n",
      "Type: Gaming chair\n",
      "Brand: AKRacing\n",
      "Dimention: {'Depth': 20, 'Width': 24, 'Height': 44}\n",
      "Color: red\n",
      "Price: 300\n",
      "Quantity: 10\n",
      "Online Availabiltiy: True\n",
      "\n",
      "Online availability of item_id 0002 has been updated to False\n",
      "\n",
      "del_item error: Item_id 0004 not found\n",
      "\n",
      "Item_id 0003 deleted\n",
      "\n",
      "  Item_id   |   Price    |  Quantity  |   Online   \n",
      "-------------------------------------------------\n",
      "    0001    |     70     |     20     |   False    \n",
      "    0002    |    300     |     10     |   False    \n"
     ]
    }
   ],
   "source": [
    "class ChairNew(Chair):\n",
    "    def __init__(self, item_id, type, brand, dimension, color, price, quantity, is_online_available=False):\n",
    "        super().__init__(item_id, type, brand, dimension, color, price, quantity) # call the constructor of the Chair class\n",
    "        self.is_online_available = is_online_available # add new attribute\n",
    "\n",
    "class InventoryNew(Inventory):\n",
    "    def register_item(self, item_id, type, brand, dimension, color, price, quantity, is_online_available=False): # override\n",
    "        self.items[item_id] = ChairNew(item_id, type, brand, dimension, color, price, quantity, is_online_available)\n",
    "        print(f'item_id {item_id} registered')\n",
    "\n",
    "    def set_online_availability(self, item_id, is_online_available): # add new method\n",
    "        if item_id in self.items:\n",
    "            self.items[item_id].is_online_available = is_online_available\n",
    "            print()\n",
    "            print(f'Online availability of item_id {item_id} has been updated to {is_online_available}')\n",
    "        else:\n",
    "            print()\n",
    "            print(f'set_online_availability error: Item_id {item_id} not found')\n",
    "            \n",
    "    def disp_info(self, item_id): # override\n",
    "        if item_id in self.items:\n",
    "            print()\n",
    "            print(f'Show information of item_id: {self.items[item_id].item_id}')\n",
    "            print(f'Type: {self.items[item_id].type}')\n",
    "            print(f'Brand: {self.items[item_id].brand}')\n",
    "            print(f'Dimention: {self.items[item_id].dimension}')\n",
    "            print(f'Color: {self.items[item_id].color}')\n",
    "            print(f'Price: {self.items[item_id].price}')\n",
    "            print(f'Quantity: {self.items[item_id].quantity}')\n",
    "            print(f'Online Availabiltiy: {self.items[item_id].is_online_available}')\n",
    "        else:\n",
    "            print()\n",
    "            print(f'disp_info error: Item_id {item_id} not found')\n",
    "\n",
    "    def disp_items(self):\n",
    "        print()\n",
    "        print(f\"{'Item_id':^12}|{'Price':^12}|{'Quantity':^12}|{'Online':^12}\") # note ':^12' specifies a output format\n",
    "        print('-------------------------------------------------')\n",
    "        for k, v in self.items.items():\n",
    "            print(f\"{k:^12}|{v.price:^12}|{v.quantity:^12}|{str(v.is_online_available):^12}\")\n",
    "\n",
    "\n",
    "\n",
    "#Create instance of inventory class\n",
    "inventory_A = InventoryNew()\n",
    "\n",
    "# Add items using register_item method\n",
    "inventory_A.register_item('0001', 'Office chair', 'Amason Basics', {'Depth': 26, 'Width': 24, 'Height': 42}, 'black', 70, 20, False)\n",
    "inventory_A.register_item('0002', 'Gaming chair', 'AKRacing', {'Depth': 20, 'Width': 24, 'Height': 44}, 'red', 300, 10, True)\n",
    "inventory_A.register_item('0003', 'Ergonomic chair', 'Branch', {'Depth': 25, 'Width': 25, 'Height': 40}, 'red', 400, 10, True)\n",
    "\n",
    "# Display all items\n",
    "inventory_A.disp_items()\n",
    "\n",
    "# Display information of 0002\n",
    "inventory_A.disp_info('0002')\n",
    "\n",
    "# Change online availability of 0002\n",
    "inventory_A.set_online_availability('0002',False)\n",
    "\n",
    "# Delete an item using del_item method\n",
    "inventory_A.del_item('0004')\n",
    "inventory_A.del_item('0003')\n",
    "\n",
    "# Display all items again\n",
    "inventory_A.disp_items()\n",
    "    "
   ]
  },
  {
   "cell_type": "markdown",
   "metadata": {},
   "source": [
    "#### Operator Overloading\n",
    "Python allows you to customize the behavior of operators (such as '+') between instances of a class through <i>Operator Overloading</i>. 　<br><br>\n",
    "You can implement operator overloading by defining special methods in your class. Specifically, these special methods have names that begin and end with a double underscore (`__`), for example `__add__` defines the behavior of the addition operator '+'. These special methods take two arguments, the left and right instances of the binary operation, respectively. For example, if the argument names are `self` and `other`, the following syntax is used to define the method: `__add__(self, other)` Within the method, you can refer to the instances as self and other, respectively.<br><br>\n",
    "The following simple example defines the `MyVector` class, a simple two-dimensional vector. We then try to make the addition operator '+' create a new vector by operator overloading. "
   ]
  },
  {
   "cell_type": "code",
   "execution_count": 14,
   "metadata": {},
   "outputs": [
    {
     "name": "stdout",
     "output_type": "stream",
     "text": [
      "New vector is (3, 3)\n"
     ]
    }
   ],
   "source": [
    "class MyVector:\n",
    "    def __init__(self, x, y):\n",
    "        self.x = x\n",
    "        self.y = y\n",
    "\n",
    "    # operater overloading\n",
    "    def __add__(self, other):\n",
    "        new_vector = MyVector(self.x + other.x, self.y + other.y)\n",
    "        return new_vector\n",
    "\n",
    "# vector instances\n",
    "v1 = MyVector(1, 4)\n",
    "v2 = MyVector(2, -1)\n",
    "\n",
    "# addition\n",
    "newvector = v1 + v2\n",
    "print(f'New vector is ({newvector.x}, {newvector.y})')"
   ]
  },
  {
   "cell_type": "markdown",
   "metadata": {},
   "source": [
    "For a more practical example, let's extend the inventory control system example again. Specifically, let us assume a situation such as a merger of stores. Assume that there are instances of the Inventory class that record inventory information for each store. Let's use operator overloading so that the inventory of the two stores is merged through the operation of addition '+'. Define a new class `InventoryNew2` that further inherits from the `InventoryNew` class defined earlier. (For simplicity, assume that `item_id` is unique in this world.)"
   ]
  },
  {
   "cell_type": "code",
   "execution_count": 27,
   "metadata": {},
   "outputs": [],
   "source": [
    "import copy\n",
    "class InventoryNew2(InventoryNew):\n",
    "    def __add__(self, other):\n",
    "        print()\n",
    "        print('Merging starts.')\n",
    "        self_new = copy.deepcopy(self) # Create a new instance instead of rewriting the original instance\n",
    "        for item_id in other.items:\n",
    "            if item_id in self_new.items: # If there is an item_id that exists in both stores, simply add up the quantitiy\n",
    "                self_new.add_quantity(item_id, other.items[item_id].quantity)\n",
    "            else: # Otherwise, register as a new item_id\n",
    "                self_new.register_item(item_id, other.items[item_id].type, other.items[item_id].brand, other.items[item_id].dimension,\n",
    "                                   other.items[item_id].color, other.items[item_id].price, other.items[item_id].quantity,\n",
    "                                   other.items[item_id].is_online_available)\n",
    "        print()\n",
    "        print('Two inventories merged.')\n",
    "        return self_new"
   ]
  },
  {
   "cell_type": "markdown",
   "metadata": {},
   "source": [
    "Let's create instances named `inventory_A` and `inventory_B` and use the addition operator we just defined."
   ]
  },
  {
   "cell_type": "code",
   "execution_count": 29,
   "metadata": {},
   "outputs": [
    {
     "name": "stdout",
     "output_type": "stream",
     "text": [
      "item_id 0001 registered\n",
      "item_id 0002 registered\n",
      "item_id 0003 registered\n",
      "item_id 0002 registered\n",
      "item_id 0004 registered\n",
      "\n",
      "Merging starts.\n",
      "\n",
      "Quantity of item_id 0002 has changed:\n",
      "Old quantity: 10\n",
      "New quantity: 30\n",
      "item_id 0004 registered\n",
      "\n",
      "Two inventories merged.\n",
      "\n",
      "Merged inventories:\n",
      "\n",
      "  Item_id   |   Price    |  Quantity  |   Online   \n",
      "-------------------------------------------------\n",
      "    0001    |     70     |     20     |   False    \n",
      "    0002    |    300     |     30     |    True    \n",
      "    0003    |    400     |     10     |    True    \n",
      "    0004    |    100     |     15     |    True    \n"
     ]
    }
   ],
   "source": [
    "inventory_A = InventoryNew2()\n",
    "inventory_A.register_item('0001', 'Office chair', 'Amason Basics', {'Depth': 26, 'Width': 24, 'Height': 42}, 'black', 70, 20, False)\n",
    "inventory_A.register_item('0002', 'Gaming chair', 'AKRacing', {'Depth': 20, 'Width': 24, 'Height': 44}, 'red', 300, 10, True)\n",
    "inventory_A.register_item('0003', 'Ergonomic chair', 'Branch', {'Depth': 25, 'Width': 25, 'Height': 40}, 'red', 400, 10, True)\n",
    "\n",
    "\n",
    "inventory_B = InventoryNew2()\n",
    "inventory_B.register_item('0002', 'Gaming chair', 'AKRacing', {'Depth': 20, 'Width': 24, 'Height': 44}, 'red', 300, 20, True)\n",
    "inventory_B.register_item('0004', 'Dining chair', 'Furmax', {'Depth': 18, 'Width': 16, 'Height': 33}, 'white', 100, 15, True)\n",
    "\n",
    "inventory_C = inventory_A + inventory_B\n",
    "\n",
    "print()\n",
    "print('Merged inventories:')\n",
    "inventory_C.disp_items()"
   ]
  }
 ],
 "metadata": {
  "kernelspec": {
   "display_name": "Python 3 (ipykernel)",
   "language": "python",
   "name": "python3"
  },
  "language_info": {
   "codemirror_mode": {
    "name": "ipython",
    "version": 3
   },
   "file_extension": ".py",
   "mimetype": "text/x-python",
   "name": "python",
   "nbconvert_exporter": "python",
   "pygments_lexer": "ipython3",
   "version": "3.11.9"
  }
 },
 "nbformat": 4,
 "nbformat_minor": 4
}
