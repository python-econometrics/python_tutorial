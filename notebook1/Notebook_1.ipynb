{
 "cells": [
  {
   "cell_type": "markdown",
   "metadata": {},
   "source": [
    "## ECON XXX (Course Title)\n",
    "## 1. Introduction to Python Programming"
   ]
  },
  {
   "cell_type": "markdown",
   "metadata": {},
   "source": [
    "### 1.1. Basics of Python Programming\n",
    "#### First Example\n",
    "Let's quickly run a Python command. The following command is to show \"Hello, World!\" using <b>print</b> function. You can run the following cell by selecting the cell and hitting \"Ctrl+Enter\" or \"Shift+Enter\". The result of the command you run will appear below the cell."
   ]
  },
  {
   "cell_type": "code",
   "execution_count": 10,
   "metadata": {},
   "outputs": [
    {
     "name": "stdout",
     "output_type": "stream",
     "text": [
      "Hello, World!\n"
     ]
    }
   ],
   "source": [
    "print(\"Hello, World!\")"
   ]
  },
  {
   "cell_type": "markdown",
   "metadata": {},
   "source": [
    "<b>print</b> is a function to output the text inside the brackets. Like this, Python provides a variety of commands to perform a wide range of tasks. In this course, you will combine them and write programs to conduct data analysis.<br><br>\n",
    "\n",
    "#### Variables\n",
    "Now, let's introduce the concept of <b> variables</b>. You can imagine a variable as a container that can hold values (or objects). Variables can be assigned values using the = operator. By using a variable in a command, the value stored in the variable can be retrieved and used. Variables can contain many types of things such as numerical values and text. Let's look at the next example."
   ]
  },
  {
   "cell_type": "code",
   "execution_count": 7,
   "metadata": {},
   "outputs": [
    {
     "name": "stdout",
     "output_type": "stream",
     "text": [
      "Hello, World!\n",
      "100\n"
     ]
    }
   ],
   "source": [
    "a = \"Hello, World!\"\n",
    "print(a)\n",
    "b = 100\n",
    "print(b)"
   ]
  },
  {
   "cell_type": "markdown",
   "metadata": {},
   "source": [
    "Once a variable is created, you can overwrite the value in the variable by using the = operator again. "
   ]
  },
  {
   "cell_type": "code",
   "execution_count": 9,
   "metadata": {},
   "outputs": [
    {
     "name": "stdout",
     "output_type": "stream",
     "text": [
      "Hello, Python!\n"
     ]
    }
   ],
   "source": [
    "a = \"Hello, World!\"\n",
    "a = \"Hello, Python!\" # Overwrite the value\n",
    "print(a)"
   ]
  },
  {
   "cell_type": "markdown",
   "metadata": {},
   "source": [
    "Note that as you can see in the above code, you can write comments in your code by using the # symbol. Text after the # symbol is ignored in the execution."
   ]
  },
  {
   "cell_type": "markdown",
   "metadata": {},
   "source": [
    "#### Numbers\n",
    "There are many different types of objects in Python. Let's go through them one by one. Firstly, let's explain numbers. In Python, you can perform arithmetic operations and power calculations like a calculator by simply writing equations as follows:"
   ]
  },
  {
   "cell_type": "code",
   "execution_count": 12,
   "metadata": {},
   "outputs": [
    {
     "name": "stdout",
     "output_type": "stream",
     "text": [
      "2\n",
      "0\n",
      "2\n",
      "0.5\n",
      "4\n"
     ]
    }
   ],
   "source": [
    "print(1 + 1)\n",
    "print(1 - 1)\n",
    "print(1 * 2)\n",
    "print(1 / 2)\n",
    "print(2 ** 2) # Power"
   ]
  },
  {
   "cell_type": "markdown",
   "metadata": {},
   "source": [
    "Of course, you can use variables in numerical calculations."
   ]
  },
  {
   "cell_type": "code",
   "execution_count": 13,
   "metadata": {},
   "outputs": [
    {
     "name": "stdout",
     "output_type": "stream",
     "text": [
      "5\n",
      "-1\n",
      "6\n",
      "0.6666666666666666\n",
      "8\n"
     ]
    }
   ],
   "source": [
    "a = 2\n",
    "b = 3\n",
    "print(a + b)\n",
    "print(a - b)\n",
    "print(a * b)\n",
    "print(a / b)\n",
    "print(a ** b)"
   ]
  },
  {
   "cell_type": "markdown",
   "metadata": {},
   "source": [
    "#### Text\n",
    "The Python objects include text, which is called \"strings\". Text must be enclosed in a single ('...') or double quotation (\"...\"). Python has some operations for text, such as the + operator which concatenates two texts into a single text."
   ]
  },
  {
   "cell_type": "code",
   "execution_count": 14,
   "metadata": {},
   "outputs": [
    {
     "name": "stdout",
     "output_type": "stream",
     "text": [
      "Hello\n",
      "HelloWorld!\n"
     ]
    }
   ],
   "source": [
    "a = \"Hello\"\n",
    "b = \"World!\"\n",
    "print(a)\n",
    "c = a + b # concatenate by the + operator\n",
    "print(c)"
   ]
  },
  {
   "cell_type": "markdown",
   "metadata": {},
   "source": [
    "### 1.2. Basics of Data Structures\n",
    "Python has some data types that can contain multiple values. I will introduce lists, tuple, and dictionaries.\n",
    "#### Lists\n",
    "You can create a list that contains multiple values (or items) as in the following cell. The values should be separated by commas, and enclosed by square brackets([...]). Lists might contain items of different types, but usually the items all have the same type. Each element in a list has index starting with 0 (Not 1!). You can access to each element by specifying the index. Suppose you have a list named \"a\". If you want to access the third element of it, for example, you need to type \"a[2]\". In the example below, lists c and d contain elements of mixed types. The difference between c and d is that in c, the third element is the string \"a\" which is just the letter a, while in d the third element is the variable a, which itself is the list defined in the first line of code. "
   ]
  },
  {
   "cell_type": "code",
   "execution_count": 3,
   "metadata": {},
   "outputs": [
    {
     "name": "stdout",
     "output_type": "stream",
     "text": [
      "3\n",
      "World!\n",
      "a\n",
      "[1, 2, 3]\n"
     ]
    }
   ],
   "source": [
    "# Declaring lists\n",
    "a = [1, 2, 3]\n",
    "b = [\"Hello\", \"World!\"]\n",
    "c = [1, 2, \"a\"]\n",
    "d = [1, 2, a]\n",
    "\n",
    "# Access to an element \n",
    "print(a[2]) # Third element\n",
    "print(b[1]) # Second element\n",
    "print(c[2])\n",
    "print(d[2])"
   ]
  },
  {
   "cell_type": "markdown",
   "metadata": {},
   "source": [
    "The minus sign can be used to specify a position from the end of the element. The index for the last element is -1."
   ]
  },
  {
   "cell_type": "code",
   "execution_count": 2,
   "metadata": {},
   "outputs": [
    {
     "name": "stdout",
     "output_type": "stream",
     "text": [
      "3\n",
      "2\n"
     ]
    }
   ],
   "source": [
    "a = [1, 2, 3]\n",
    "print(a[-1]) # Last element\n",
    "print(a[-2]) # Before the last"
   ]
  },
  {
   "cell_type": "markdown",
   "metadata": {},
   "source": [
    "Moreover, you can retrieve multiple elements by specifying a range of indices. Python has a notation for specifying a range, called \"slice\". A slice is denoted by [m:n], where 'm' is the index of the first element in the range, and 'n' is the index <b>immediately after</b> the last element in the range. Note that the elements from m to (n-1) are included in the range, while the element indexed with n is not. (This corresponds to a semi-open interval in mathematics.)\n",
    "<br><br>For example, suppose you have a list named \"a\" that has 10 elements. If you want to get the first five elements of a, the slice for it will be [0:5]."
   ]
  },
  {
   "cell_type": "code",
   "execution_count": 9,
   "metadata": {},
   "outputs": [
    {
     "name": "stdout",
     "output_type": "stream",
     "text": [
      "[1, 2, 3, 4, 5]\n"
     ]
    }
   ],
   "source": [
    "a = [1,2,3,4,5,6,7,8,9,10]\n",
    "print(a[0:5])"
   ]
  },
  {
   "cell_type": "markdown",
   "metadata": {},
   "source": [
    "(This is a bit confusing because we said 'n' in [m:n] is not included in the range, so you may think 5 is not included in a[0:5]. However, remember that indexing starts at 0, and therefore a[5] is the 6-th element, which is excluded from a[0:5].)\n",
    "<br><br>\n",
    "For a slice, you can also specify only the first index (m) or the index immediately after the last element (n) in the range. If you only specify 'm', you get the element with the index m and all elements after m. If you only specify 'n', you get all the elemets before the index n (excluding n). "
   ]
  },
  {
   "cell_type": "code",
   "execution_count": 11,
   "metadata": {},
   "outputs": [
    {
     "name": "stdout",
     "output_type": "stream",
     "text": [
      "[6, 7, 8, 9, 10]\n",
      "[1, 2, 3, 4, 5]\n"
     ]
    }
   ],
   "source": [
    "a = [1,2,3,4,5,6,7,8,9,10]\n",
    "print(a[5:]) # only specify 'm'\n",
    "print(a[:5]) # only specify 'n'"
   ]
  },
  {
   "cell_type": "markdown",
   "metadata": {},
   "source": [
    "For a list, there is a <i>method</i> called <b>append</b>. <i>method</i> will be elaborated in a later chapter. Briefly speaking, in Python, you can manipulate an <i>object</i> such as a list by conencting the object and a method with dot(.) operator. <b>append()</b> method will add the element inside the brackets to a list. Please see a code example below."
   ]
  },
  {
   "cell_type": "code",
   "execution_count": 12,
   "metadata": {},
   "outputs": [
    {
     "name": "stdout",
     "output_type": "stream",
     "text": [
      "[1, 2, 3]\n",
      "[1, 2, 3, 4]\n"
     ]
    }
   ],
   "source": [
    "a = [1, 2, 3]\n",
    "print(a)\n",
    "\n",
    "a.append(4)  # adding an element '4' to a. \n",
    "print(a)"
   ]
  },
  {
   "cell_type": "markdown",
   "metadata": {},
   "source": [
    "<b>len</b> function returns the number of the elements in a list."
   ]
  },
  {
   "cell_type": "code",
   "execution_count": 13,
   "metadata": {},
   "outputs": [
    {
     "name": "stdout",
     "output_type": "stream",
     "text": [
      "3\n"
     ]
    }
   ],
   "source": [
    "a = [1, 2, 3]\n",
    "print(len(a))"
   ]
  },
  {
   "cell_type": "markdown",
   "metadata": {},
   "source": [
    "#### Tuples\n",
    "Tuples are similar to lists. They can contain multiple values or (items). For a tuple, the values should be separated by commas, and enclosed by parentheses (...). You can access the elements in a tuple by the slice notation. The difference between a tuple and a list is that the numbers in a list can be changed, while those in a tuple cannnot (this feature is called <i>immultable</i>.) The following code will generate an error."
   ]
  },
  {
   "cell_type": "code",
   "execution_count": 21,
   "metadata": {},
   "outputs": [
    {
     "name": "stdout",
     "output_type": "stream",
     "text": [
      "[1, 3]\n"
     ]
    },
    {
     "ename": "TypeError",
     "evalue": "'tuple' object does not support item assignment",
     "output_type": "error",
     "traceback": [
      "\u001b[0;31m---------------------------------------------------------------------------\u001b[0m",
      "\u001b[0;31mTypeError\u001b[0m                                 Traceback (most recent call last)",
      "\u001b[1;32m/Users/user/Desktop/RA/Python_tutorial/Notebook_1.ipynb セル 28\u001b[0m line \u001b[0;36m6\n\u001b[1;32m      <a href='vscode-notebook-cell:/Users/user/Desktop/RA/Python_tutorial/Notebook_1.ipynb#X41sZmlsZQ%3D%3D?line=2'>3</a>\u001b[0m \u001b[39mprint\u001b[39m(a)\n\u001b[1;32m      <a href='vscode-notebook-cell:/Users/user/Desktop/RA/Python_tutorial/Notebook_1.ipynb#X41sZmlsZQ%3D%3D?line=4'>5</a>\u001b[0m b \u001b[39m=\u001b[39m (\u001b[39m1\u001b[39m,\u001b[39m2\u001b[39m)\n\u001b[0;32m----> <a href='vscode-notebook-cell:/Users/user/Desktop/RA/Python_tutorial/Notebook_1.ipynb#X41sZmlsZQ%3D%3D?line=5'>6</a>\u001b[0m b[\u001b[39m1\u001b[39;49m] \u001b[39m=\u001b[39m \u001b[39m3\u001b[39m \u001b[39m# You cannnot change values in a tuple. This will generate an error.\u001b[39;00m\n\u001b[1;32m      <a href='vscode-notebook-cell:/Users/user/Desktop/RA/Python_tutorial/Notebook_1.ipynb#X41sZmlsZQ%3D%3D?line=6'>7</a>\u001b[0m \u001b[39mprint\u001b[39m(b)\n",
      "\u001b[0;31mTypeError\u001b[0m: 'tuple' object does not support item assignment"
     ]
    }
   ],
   "source": [
    "a = [1,2]\n",
    "a[1] = 3 # Values in a list are changeable.\n",
    "print(a)\n",
    "\n",
    "b = (1,2)\n",
    "b[1] = 3 # You cannnot change values in a tuple. This will generate an error.\n",
    "print(b)"
   ]
  },
  {
   "cell_type": "markdown",
   "metadata": {},
   "source": [
    "#### Dictionaries\n",
    "Like lists and tuples, dictionaries can contain multiple values (or items). While elements in lists and tuples are indexed by consecutive integers starting from 0, those in dictionaries can be indexed by keywords, which are called <i>keys</i>. In a dictionary, keys and values are connected by colon (like key:value), and the pairs are separeted by commas and enclosed by curly brackets {...}. You can access to elements by specifying keys.\n"
   ]
  },
  {
   "cell_type": "code",
   "execution_count": 20,
   "metadata": {},
   "outputs": [
    {
     "name": "stdout",
     "output_type": "stream",
     "text": [
      "2\n"
     ]
    }
   ],
   "source": [
    "a = {'apples': 1, 'bananas': 2, 'oranges': 3} # create a dictionary\n",
    "print(a['bananas']) # access to an element by specifying a key"
   ]
  },
  {
   "cell_type": "markdown",
   "metadata": {},
   "source": [
    "### 1.3. Basics of Flow Control\n",
    "#### Conditionals (if statements)\n",
    "Flow control in programming refers to the way a program decides which code is executed. The command <b>if</b> is a statement that determinens if code is executed depending on the condition written between <b>if</b> and a colon :. If the condition is true, the program executes the <i>body</i> of the statement. Let's take a look at the following example."
   ]
  },
  {
   "cell_type": "code",
   "execution_count": 5,
   "metadata": {},
   "outputs": [
    {
     "name": "stdout",
     "output_type": "stream",
     "text": [
      "Hello, Python!\n",
      "a is 2.\n"
     ]
    }
   ],
   "source": [
    "a = 1\n",
    "\n",
    "if a == 1:\n",
    "    print(\"Hello, World!\") # executed because the condition is true\n",
    "    print(\"a is 1.\")\n",
    "    \n",
    "if a == 2:\n",
    "    print(\"Hello, Python!\") # not executed because the condition is false\n",
    "    print(\"a is 2.\")"
   ]
  },
  {
   "cell_type": "markdown",
   "metadata": {},
   "source": [
    "A few important points should be mentioned. Firstly, as we can see, the lines in the body of an if statement must be indented by 4 spaces. This is an important feature of Python. Namely, Python uses indentation (4 spaces) to group multiple lines into a single block. As long as lines with the same indentation continue, they are recognized as a single block. In the above example,print(\"Hello, World!\") and print(\"a is 1.\") are recognized as the body for if a == 1: statement. <br><br>\n",
    "Second, to write a condition in Python, the following <i>comparison operators</i> are used.\n",
    "| Comparison Operator   |      Meaning      | \n",
    "|:----------:|:-------------:|\n",
    "| == |  Equal to |\n",
    "| != |    Not equal to   |\n",
    "| > | Greater than|\n",
    "| < | Less than |\n",
    "| >= | Greater than or equal to |\n",
    "| <= | Less than or equal to |\n",
    "\n",
    "Note that while a single equal operator (=) means an assignment of a value to a variable, the double equal operators (==) evaluates an equality between the left-hand side and the right-hand side.<br>\n",
    "Moreover, using the following <i>logical operators</i>, you can combine multiple logical statements or negate a statement. \n",
    "| Comparison Operator   |      Meaning      |\n",
    "|:----------:|:-------------:|\n",
    "| ... and ... |  True if both statements are true |\n",
    "| ... or ...|    True if either of both statements is true   |\n",
    "| not(...) | True if the statement is false|\n",
    "\n",
    "Please see the following example."
   ]
  },
  {
   "cell_type": "code",
   "execution_count": 24,
   "metadata": {},
   "outputs": [
    {
     "name": "stdout",
     "output_type": "stream",
     "text": [
      "Either a or b is greater than 150\n",
      "a is not greater than 150\n"
     ]
    }
   ],
   "source": [
    "a = 100\n",
    "b = 200\n",
    "\n",
    "if a > 150 and b > 150:\n",
    "    print('Both a and b are greater than 150') # not executed because the statement is false\n",
    "\n",
    "if a > 150 or b > 150:\n",
    "    print('Either a or b is greater than 150')\n",
    "\n",
    "if not(a>150):\n",
    "    print('a is not greater than 150')"
   ]
  },
  {
   "cell_type": "markdown",
   "metadata": {},
   "source": [
    "In <b>if</b> type statements, you can add one or more <b>elif</b> parts (elif is short for \"else if\"). An <b>elif</b> block's commands will be executed If the <b>elif</b> condition is true and if all previous <b>if</b> or <b>elif</b> conditions are false. Moreover, you can add an <b>else</b> block at the end of <b>if</b> a statement. An <b>else</b> block will be executed if all other <b>if</b> and <b>elif</b> conditions are false."
   ]
  },
  {
   "cell_type": "code",
   "execution_count": 25,
   "metadata": {},
   "outputs": [
    {
     "name": "stdout",
     "output_type": "stream",
     "text": [
      "Both a and b are greater than 50\n",
      "Either a or b is less than or equal to 120\n"
     ]
    }
   ],
   "source": [
    "a = 100\n",
    "b = 200\n",
    "\n",
    "if a > 150 and b > 150:\n",
    "    print('Both a and b are greater than 150') # not executed because the statement is false\n",
    "elif a > 50 and b > 50:\n",
    "    print('Both a and b are greater than 50')\n",
    "\n",
    "\n",
    "if a > 150 and b > 150:\n",
    "    print('Both a and b are greater than 150') # not executed because the statement is false\n",
    "elif a > 120 and b > 120:\n",
    "    print('Both a and b are greater than 50') # not executed because the statement is false\n",
    "else:\n",
    "    print('Either a or b is less than or equal to 120')"
   ]
  },
  {
   "cell_type": "markdown",
   "metadata": {},
   "source": [
    "#### Loops (while)\n",
    "Loop statements allow you to execute the same piece of code multiple times. Using <b>while</b> loop, you can repeat the code as long as a condition is true. The following example code runs print(a) and a = a + 1 while a < 10 is true. Note that the line a = a + 1 is critically important. Without it the loop will run forever. The lesson is that while-loops need to be written in a way so that the condition for the loop to continue is eventually false. "
   ]
  },
  {
   "cell_type": "code",
   "execution_count": 26,
   "metadata": {},
   "outputs": [
    {
     "name": "stdout",
     "output_type": "stream",
     "text": [
      "1\n",
      "2\n",
      "3\n",
      "4\n",
      "5\n",
      "6\n",
      "7\n",
      "8\n",
      "9\n"
     ]
    }
   ],
   "source": [
    "a = 1\n",
    "\n",
    "while a < 10:\n",
    "    print(a)\n",
    "    a = a + 1\n"
   ]
  },
  {
   "cell_type": "markdown",
   "metadata": {},
   "source": [
    "#### Loops (for)\n",
    "Some objects that contain multiple values such as a list are called <i>iterables</i> in Python. A <b>for</b> loop statement iterates the same piece of code over the items of an <i>interable</i>. The syntax for declaring <b>for</b> loop is as follows: \"<b>for</b> <i>looping variable</i> <b>in</b> <i>interable</i>:\". In a for-loop, for each loop, one of the elements of the iterable is assigned in turn to the loop variable and the code in the block of the for-loops is executed. For example, the <b>for</b> loop in the following code runs the <b>print</b> function for each element of the list named 'a'."
   ]
  },
  {
   "cell_type": "code",
   "execution_count": 29,
   "metadata": {},
   "outputs": [
    {
     "name": "stdout",
     "output_type": "stream",
     "text": [
      "1\n",
      "2\n",
      "3\n",
      "4\n",
      "5\n",
      "6\n",
      "7\n",
      "8\n",
      "9\n",
      "apples\n",
      "bananas\n",
      "oranges\n"
     ]
    }
   ],
   "source": [
    "a = [1, 2, 3, 4, 5, 6, 7, 8, 9]\n",
    "\n",
    "for b in a: # 'b' is loop variable. Each elememt of 'a' is assigned to 'b' in turn \n",
    "    print(b)\n",
    "\n",
    "c = ['apples', 'bananas', 'oranges']\n",
    "\n",
    "for d in c:\n",
    "    print(d)"
   ]
  },
  {
   "cell_type": "markdown",
   "metadata": {},
   "source": [
    "If you want to loop over a sequence of numbers, the <b>range</b> function is convenient. If you write <b>range(n)</b>, it creates an iterable that contains consecutive integers from 0 to n-1 (hence the number of items equals to n). If you write <b>range(m,n)</b>, it creates an iterable that contains consecutive integers from m to n-1 (like a <i>slice</i>, m and n specify a semi-open interval). You can directly write a <b>range</b> function in a for-statement."
   ]
  },
  {
   "cell_type": "code",
   "execution_count": 33,
   "metadata": {},
   "outputs": [
    {
     "name": "stdout",
     "output_type": "stream",
     "text": [
      "0\n",
      "1\n",
      "2\n",
      "3\n",
      "4\n",
      "5\n",
      "6\n",
      "7\n",
      "8\n",
      "\n",
      "5\n",
      "6\n",
      "7\n",
      "8\n"
     ]
    }
   ],
   "source": [
    "for b in range(9): # range(9) creates an iterable that contains 0 to 8\n",
    "    print(b)\n",
    "\n",
    "print()\n",
    "\n",
    "for d in range(5,9): # range(5,9) creates an iterable that contains 5 to 8\n",
    "    print(d)"
   ]
  },
  {
   "cell_type": "markdown",
   "metadata": {},
   "source": [
    "If you want to loop over a dictionary, the <b>. items()</b> method will give both the key and value of each elements in the dictionary. You need two looping variables to which keys and values are assigned respectively. An example is as follows."
   ]
  },
  {
   "cell_type": "code",
   "execution_count": 38,
   "metadata": {},
   "outputs": [
    {
     "name": "stdout",
     "output_type": "stream",
     "text": [
      "The quantity of apples is 1\n",
      "The quantity of bananas is 2\n",
      "The quantity of oranges is 3\n"
     ]
    }
   ],
   "source": [
    "a = {'apples': 1, 'bananas': 2, 'oranges': 3} # create a dictionary\n",
    "\n",
    "for k, v in a.items(): # k and v are loop variables. keys are assined to k, and values are assinged to v\n",
    "    print('The quantity of ' + k + ' is ' + str(v)) # concatenate strings by the + operator.\n",
    "                                                    # Since v is interger, it need to be converted into strings by str() function"
   ]
  },
  {
   "cell_type": "markdown",
   "metadata": {},
   "source": [
    "If you want to loop over an iterable such as a list, and want to iterate over both indices and elements at the same time, using the <b>enumerate()</b> function in a for-loop statement is convenient. Similar to loops over a dictionary, you need to specify two looping variables to which indices and values are assinged respectively."
   ]
  },
  {
   "cell_type": "code",
   "execution_count": 40,
   "metadata": {},
   "outputs": [
    {
     "name": "stdout",
     "output_type": "stream",
     "text": [
      "0th fruit is apple\n",
      "1th fruit is banana\n",
      "2th fruit is orange\n"
     ]
    }
   ],
   "source": [
    "a = ['apple', 'banana', 'orange']\n",
    "\n",
    "for i, v in enumerate(a):\n",
    "    print(str(i) + 'th fruit is ' + v)"
   ]
  },
  {
   "cell_type": "markdown",
   "metadata": {},
   "source": [
    "#### Loops (break and continue)\n",
    "When using \"for\" or \"while\" loops, if a specific condition is met, you can either interrupt the entire loop or just the current iteration. The commands for this are <b>break</b> and <b>continue</b>. <b>break</b> interrupts the entire loop, while <b>continue</b> interrupts the current iteration and goes to the next one. In the following example, with <b>break</b>, all of print(b) commands after b = 4 are skipped, while with <b>continue</b> print(b) is skipped only when b = 5."
   ]
  },
  {
   "cell_type": "code",
   "execution_count": 6,
   "metadata": {},
   "outputs": [
    {
     "name": "stdout",
     "output_type": "stream",
     "text": [
      "1\n",
      "2\n",
      "3\n",
      "4\n",
      "\n",
      "1\n",
      "2\n",
      "3\n",
      "4\n",
      "6\n",
      "7\n",
      "8\n",
      "9\n"
     ]
    }
   ],
   "source": [
    "a = [1, 2, 3, 4, 5, 6, 7, 8, 9]\n",
    "\n",
    "for b in a:\n",
    "\n",
    "    if b == 5: # if b is 5, interrupt the entire loop\n",
    "        break # note there are 8 spaces before 'break'\n",
    "    \n",
    "    print(b)\n",
    "\n",
    "\n",
    "print()\n",
    "\n",
    "for b in a:\n",
    "\n",
    "    if b == 5: # if b is 5, interrupt the current iteration and go to the next iteration\n",
    "        continue\n",
    "    \n",
    "    print(b)"
   ]
  },
  {
   "cell_type": "markdown",
   "metadata": {},
   "source": [
    "As an important syntax point, if an <b>if</b> block exists within a <b>for</b> block, the body of the <b>if</b> statement must be indented by eight spaces. When blocks are nested like this, the indentation must be deepened accordingly. In this example, <b>break</b> and <b>continue</b> are the blocks of the two <b>if</b> statements, and thus are indented by eight spaces."
   ]
  },
  {
   "cell_type": "markdown",
   "metadata": {},
   "source": [
    "### 1.4.　Output Formatting\n",
    "So far, when displaying results using the <b>print</b> function, we have simply connected strings and variables with the + operator. However, Python has several other flexible ways to do that. Let's look at the <i>f-strings</i> and <b>format</b> method here.\n",
    "#### f-strings\n",
    "If you add <b>f</b> (or <b>F</b>) before a string, it will be an <i>f-string</i>. Inside an f-string, you can insert values of Python expessions (such as variables) with curly brackets {...}."
   ]
  },
  {
   "cell_type": "code",
   "execution_count": 5,
   "metadata": {},
   "outputs": [
    {
     "name": "stdout",
     "output_type": "stream",
     "text": [
      "The original value of a is 2\n",
      "a * 100 is 200\n"
     ]
    }
   ],
   "source": [
    "a = 2\n",
    "print(f'The original value of a is {a}')\n",
    "print(f'a * 100 is {a*100}') # output will be the result of a*100"
   ]
  },
  {
   "cell_type": "markdown",
   "metadata": {},
   "source": [
    "Inside curly brackets {...}, you can speficy the format of the value. There are many types of formats to display numbers. Here, let's look at so-called <i>fixed point numbers</i>. This simply means that your number is shown with a fixed number of digits after the decimal point. You can specify how many digits you want to show."
   ]
  },
  {
   "cell_type": "code",
   "execution_count": 7,
   "metadata": {},
   "outputs": [
    {
     "name": "stdout",
     "output_type": "stream",
     "text": [
      "Show two digits after the decimal point:  1.23\n",
      "Show six digits after the decimal point:  1.234568\n"
     ]
    }
   ],
   "source": [
    "a = 1.23456789\n",
    "print(f'Show two digits after the decimal point: {a: .2f}')\n",
    "print(f'Show six digits after the decimal point: {a: .6f}') # The value of the last digit is 8 due to rounding."
   ]
  },
  {
   "cell_type": "markdown",
   "metadata": {},
   "source": [
    "As the above example shows, you can specify a format after a colon(:) inside the brackets. For the fixed point number format, the syntax of the format specification is <b>.nf</b> where 'n' is the digit you want to show after the decimal point.\n",
    "\n",
    "### .format method"
   ]
  },
  {
   "cell_type": "markdown",
   "metadata": {},
   "source": [
    "Another way of formatting your output is to use the <b>.format</b> method. Remember <i>method</i> is a way to manupulate objects, which in this case are strings. The simplest way to use the format method is as follows:"
   ]
  },
  {
   "cell_type": "code",
   "execution_count": 8,
   "metadata": {},
   "outputs": [
    {
     "name": "stdout",
     "output_type": "stream",
     "text": [
      "The first value is 1. The second value is 2\n"
     ]
    }
   ],
   "source": [
    "a = 1\n",
    "b = 2\n",
    "\n",
    "print('The first value is {}. The second value is {}'.format(a, b))"
   ]
  },
  {
   "cell_type": "markdown",
   "metadata": {},
   "source": [
    "As usual, <b>.format()</b> method is written after the target object. This method can contain any number of Python expressions (such as values and variables) in its parentheses. In the target string, {} will be replaced by arguments of  <b>.format()</b> in order. You may also specify the order of replacement writing indices in {}."
   ]
  },
  {
   "cell_type": "code",
   "execution_count": 12,
   "metadata": {},
   "outputs": [
    {
     "name": "stdout",
     "output_type": "stream",
     "text": [
      "c = 3. b = 2. a = 1.\n"
     ]
    }
   ],
   "source": [
    "a = 1\n",
    "b = 2\n",
    "c = 3\n",
    "\n",
    "print('c = {2}. b = {1}. a = {0}.'.format(a, b, c))"
   ]
  },
  {
   "cell_type": "markdown",
   "metadata": {},
   "source": [
    "You can specify a format using the same syntax as <i>f-strings</i>. Namely, you can add a colon(:) and a format specification in {}."
   ]
  },
  {
   "cell_type": "code",
   "execution_count": 11,
   "metadata": {},
   "outputs": [
    {
     "name": "stdout",
     "output_type": "stream",
     "text": [
      "a =  1.23. b =  2.346. c =  3.4567.\n",
      "c =  3.46. b =  2.346. a =  1.2345.\n"
     ]
    }
   ],
   "source": [
    "a = 1.2345\n",
    "b = 2.3456\n",
    "c = 3.4567\n",
    "\n",
    "print('a = {: .2f}. b = {: .3f}. c = {: .4f}.'.format(a, b, c))\n",
    "\n",
    "print('c = {2: .2f}. b = {1: .3f}. a = {0: .4f}.'.format(a, b, c))"
   ]
  }
 ],
 "metadata": {
  "kernelspec": {
   "display_name": "Python 3 (ipykernel)",
   "language": "python",
   "name": "python3"
  },
  "language_info": {
   "codemirror_mode": {
    "name": "ipython",
    "version": 3
   },
   "file_extension": ".py",
   "mimetype": "text/x-python",
   "name": "python",
   "nbconvert_exporter": "python",
   "pygments_lexer": "ipython3",
   "version": "3.11.7"
  }
 },
 "nbformat": 4,
 "nbformat_minor": 4
}
